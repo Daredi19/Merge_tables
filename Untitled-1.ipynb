{
 "cells": [
  {
   "cell_type": "code",
   "execution_count": 1,
   "id": "5e28d71c",
   "metadata": {},
   "outputs": [],
   "source": [
    "import polars as pl\n",
    "import os\n",
    "import re\n",
    "from rich import print\n",
    "from rich.console import Console\n",
    "from pathlib import Path\n",
    "import csv\n",
    "from itertools import islice\n",
    "\n",
    "console = Console()\n"
   ]
  },
  {
   "cell_type": "code",
   "execution_count": null,
   "id": "a01b6ca2",
   "metadata": {},
   "outputs": [],
   "source": [
    "def get_df(file_path):\n",
    "  '''Carga un archivo, detecta su separador y devuelve un dataframe.\n",
    "\n",
    "  Args:\n",
    "      file_path(str): Ruta del archivo.\n",
    "\n",
    "  Returns:\n",
    "      pl.DataFrame: DataFrame con los datos.\n",
    "  '''\n",
    "\n",
    "  try:\n",
    "\n",
    "    file_path = Path(file_path).resolve()\n",
    "    print(f\"[yellow]:warning:[/] Se utilizará el siguiente archivo [bold green]{file_path.name}[/]\")\n",
    "\n",
    "    with open(file_path, 'r', newline='', encoding='utf-8') as f:\n",
    "\n",
    "        sample = ''.join(islice(f, 5)) # Lee (solo) las 5 primeras lineas y las concatena en una cadena ('' hace que no se meta nada en el medio) (Problema csvfile.readlines(): leería todo el archivo y despues se cogerian las 5 primeras)\n",
    "\n",
    "        delimiter = csv.Sniffer().sniff(sample).delimiter # La clase sniffer detecta el formato de un csv. Sniff es un metodo que devuelve el objeto Dialect. delimiter es un atributo de dialect que contiene el separador\n",
    "        print(f\"[yellow]:warning:[/] Se ha detectado el separador: [bold yellow]{repr(delimiter)}[/]\")\n",
    "\n",
    "        f.seek(0) # Para devolver el puntero al principio del archivo\n",
    "\n",
    "        df = pl.read_csv(f, separator=delimiter, infer_schema_length=10000) # Polars lee todo el archivo y devuelve el dataframe, aumentamos el infer_schema_length para que detecte bien los tipos de dato de la columna prob\n",
    "\n",
    "    #with console.pager(styles=True): # Para que se abra la tabla como un scrolleable (esto lo puse por probar a usarlo porque polars te limita las lineas)\n",
    "        #console.print(f\"[bold] :bar_chart: Dataframe: [/] \\n {df}\")\n",
    "    return df\n",
    "\n",
    "  except FileNotFoundError:\n",
    "      console.print(f\":x: Archivo no encontrado en la ruta: {file_path}\")"
   ]
  },
  {
   "cell_type": "code",
   "execution_count": 18,
   "id": "ebec5e94",
   "metadata": {},
   "outputs": [
    {
     "data": {
      "text/html": [
       "<pre style=\"white-space:pre;overflow-x:auto;line-height:normal;font-family:Menlo,'DejaVu Sans Mono',consolas,'Courier New',monospace\"><span style=\"color: #808000; text-decoration-color: #808000\">⚠</span> Se utilizará el siguiente archivo <span style=\"color: #008000; text-decoration-color: #008000; font-weight: bold\">BeiRNA_JoinedAnnotations.tsv</span>\n",
       "</pre>\n"
      ],
      "text/plain": [
       "\u001b[33m⚠\u001b[0m Se utilizará el siguiente archivo \u001b[1;32mBeiRNA_JoinedAnnotations.tsv\u001b[0m\n"
      ]
     },
     "metadata": {},
     "output_type": "display_data"
    },
    {
     "data": {
      "text/html": [
       "<pre style=\"white-space:pre;overflow-x:auto;line-height:normal;font-family:Menlo,'DejaVu Sans Mono',consolas,'Courier New',monospace\"><span style=\"color: #808000; text-decoration-color: #808000\">⚠</span> Se ha detectado el separador: <span style=\"color: #808000; text-decoration-color: #808000; font-weight: bold\">'\\t'</span>\n",
       "</pre>\n"
      ],
      "text/plain": [
       "\u001b[33m⚠\u001b[0m Se ha detectado el separador: \u001b[1;33m'\\t'\u001b[0m\n"
      ]
     },
     "metadata": {},
     "output_type": "display_data"
    },
    {
     "data": {
      "text/html": [
       "<pre style=\"white-space:pre;overflow-x:auto;line-height:normal;font-family:Menlo,'DejaVu Sans Mono',consolas,'Courier New',monospace\"><span style=\"color: #808000; text-decoration-color: #808000\">⚠</span> Se utilizará el siguiente archivo <span style=\"color: #008000; text-decoration-color: #008000; font-weight: bold\">countsfilteredBeiRNA_BagBrown_vs_countsfilteredBeiRNA_SeaWater.txt</span>\n",
       "</pre>\n"
      ],
      "text/plain": [
       "\u001b[33m⚠\u001b[0m Se utilizará el siguiente archivo \u001b[1;32mcountsfilteredBeiRNA_BagBrown_vs_countsfilteredBeiRNA_SeaWater.txt\u001b[0m\n"
      ]
     },
     "metadata": {},
     "output_type": "display_data"
    },
    {
     "data": {
      "text/html": [
       "<pre style=\"white-space:pre;overflow-x:auto;line-height:normal;font-family:Menlo,'DejaVu Sans Mono',consolas,'Courier New',monospace\"><span style=\"color: #808000; text-decoration-color: #808000\">⚠</span> Se ha detectado el separador: <span style=\"color: #808000; text-decoration-color: #808000; font-weight: bold\">'\\t'</span>\n",
       "</pre>\n"
      ],
      "text/plain": [
       "\u001b[33m⚠\u001b[0m Se ha detectado el separador: \u001b[1;33m'\\t'\u001b[0m\n"
      ]
     },
     "metadata": {},
     "output_type": "display_data"
    },
    {
     "data": {
      "text/html": [
       "<pre style=\"white-space:pre;overflow-x:auto;line-height:normal;font-family:Menlo,'DejaVu Sans Mono',consolas,'Courier New',monospace\">shape: <span style=\"font-weight: bold\">(</span>106_108, <span style=\"color: #008080; text-decoration-color: #008080; font-weight: bold\">35</span><span style=\"font-weight: bold\">)</span>\n",
       "┌─────────────┬─────────────┬────────┬────────────┬───┬────────────┬────────────┬─────────┬────────┐\n",
       "│ ORF ID      ┆ Gene name   ┆ Gene   ┆ ORF length ┆ … ┆ <span style=\"color: #800080; text-decoration-color: #800080; font-weight: bold\">GO</span><span style=\"font-weight: bold\">(</span>C<span style=\"font-weight: bold\">)</span>NAME  ┆ KEYWORD    ┆ PATHWAY ┆ GOSLIM │\n",
       "│ ---         ┆ ---         ┆ length ┆ ---        ┆   ┆ ---        ┆ ---        ┆ ---     ┆ ---    │\n",
       "│ str         ┆ str         ┆ ---    ┆ i64        ┆   ┆ str        ┆ str        ┆ str     ┆ str    │\n",
       "│             ┆             ┆ i64    ┆            ┆   ┆            ┆            ┆         ┆        │\n",
       "╞═════════════╪═════════════╪════════╪════════════╪═══╪════════════╪════════════╪═════════╪════════╡\n",
       "│ TRINITY_DN1 ┆ TRINITY_DN1 ┆ <span style=\"color: #008080; text-decoration-color: #008080; font-weight: bold\">5791</span>   ┆ <span style=\"color: #008080; text-decoration-color: #008080; font-weight: bold\">653</span>        ┆ … ┆ null       ┆ null       ┆ null    ┆ null   │\n",
       "│ 630_c0_g1_i ┆ 630_c0_g1_i ┆        ┆            ┆   ┆            ┆            ┆         ┆        │\n",
       "│ <span style=\"color: #008080; text-decoration-color: #008080; font-weight: bold\">4.</span>p1        ┆ <span style=\"color: #008080; text-decoration-color: #008080; font-weight: bold\">4</span>           ┆        ┆            ┆   ┆            ┆            ┆         ┆        │\n",
       "│ TRINITY_DN2 ┆ TRINITY_DN2 ┆ <span style=\"color: #008080; text-decoration-color: #008080; font-weight: bold\">1529</span>   ┆ <span style=\"color: #008080; text-decoration-color: #008080; font-weight: bold\">474</span>        ┆ … ┆ null       ┆ null       ┆ null    ┆ null   │\n",
       "│ 7258_c0_g1_ ┆ 7258_c0_g1_ ┆        ┆            ┆   ┆            ┆            ┆         ┆        │\n",
       "│ i5.p1       ┆ i5          ┆        ┆            ┆   ┆            ┆            ┆         ┆        │\n",
       "│ TRINITY_DN2 ┆ TRINITY_DN2 ┆ <span style=\"color: #008080; text-decoration-color: #008080; font-weight: bold\">673</span>    ┆ <span style=\"color: #008080; text-decoration-color: #008080; font-weight: bold\">129</span>        ┆ … ┆ null       ┆ null       ┆ null    ┆ null   │\n",
       "│ 10276_c0_g1 ┆ 10276_c0_g1 ┆        ┆            ┆   ┆            ┆            ┆         ┆        │\n",
       "│ _i1.p1      ┆ _i1         ┆        ┆            ┆   ┆            ┆            ┆         ┆        │\n",
       "│ TRINITY_DN2 ┆ TRINITY_DN2 ┆ <span style=\"color: #008080; text-decoration-color: #008080; font-weight: bold\">868</span>    ┆ <span style=\"color: #008080; text-decoration-color: #008080; font-weight: bold\">289</span>        ┆ … ┆ cytosol;<span style=\"color: #008080; text-decoration-color: #008080; font-weight: bold\">6</span>- ┆ ATP-bindin ┆ null    ┆ null   │\n",
       "│ 3399_c0_g1_ ┆ 3399_c0_g1_ ┆        ┆            ┆   ┆ phosphofru ┆ g;Hydrolas ┆         ┆        │\n",
       "│ i5.p1       ┆ i5          ┆        ┆            ┆   ┆ cto-<span style=\"color: #008080; text-decoration-color: #008080; font-weight: bold\">2</span>-kina ┆ e;Kinase;N ┆         ┆        │\n",
       "│             ┆             ┆        ┆            ┆   ┆ …          ┆ …          ┆         ┆        │\n",
       "│ TRINITY_DN2 ┆ TRINITY_DN2 ┆ <span style=\"color: #008080; text-decoration-color: #008080; font-weight: bold\">1625</span>   ┆ <span style=\"color: #008080; text-decoration-color: #008080; font-weight: bold\">397</span>        ┆ … ┆ null       ┆ null       ┆ null    ┆ null   │\n",
       "│ 814_c0_g1_i ┆ 814_c0_g1_i ┆        ┆            ┆   ┆            ┆            ┆         ┆        │\n",
       "│ <span style=\"color: #008080; text-decoration-color: #008080; font-weight: bold\">12.</span>p1       ┆ <span style=\"color: #008080; text-decoration-color: #008080; font-weight: bold\">12</span>          ┆        ┆            ┆   ┆            ┆            ┆         ┆        │\n",
       "│ …           ┆ …           ┆ …      ┆ …          ┆ … ┆ …          ┆ …          ┆ …       ┆ …      │\n",
       "│ TRINITY_DN6 ┆ TRINITY_DN6 ┆ <span style=\"color: #008080; text-decoration-color: #008080; font-weight: bold\">2448</span>   ┆ <span style=\"color: #008080; text-decoration-color: #008080; font-weight: bold\">320</span>        ┆ … ┆ null       ┆ null       ┆ null    ┆ null   │\n",
       "│ 750_c1_g1_i ┆ 750_c1_g1_i ┆        ┆            ┆   ┆            ┆            ┆         ┆        │\n",
       "│ <span style=\"color: #008080; text-decoration-color: #008080; font-weight: bold\">6.</span>p1        ┆ <span style=\"color: #008080; text-decoration-color: #008080; font-weight: bold\">6</span>           ┆        ┆            ┆   ┆            ┆            ┆         ┆        │\n",
       "│ TRINITY_DN6 ┆ TRINITY_DN6 ┆ <span style=\"color: #008080; text-decoration-color: #008080; font-weight: bold\">2447</span>   ┆ <span style=\"color: #008080; text-decoration-color: #008080; font-weight: bold\">320</span>        ┆ … ┆ null       ┆ null       ┆ null    ┆ null   │\n",
       "│ 750_c1_g1_i ┆ 750_c1_g1_i ┆        ┆            ┆   ┆            ┆            ┆         ┆        │\n",
       "│ <span style=\"color: #008080; text-decoration-color: #008080; font-weight: bold\">5.</span>p1        ┆ <span style=\"color: #008080; text-decoration-color: #008080; font-weight: bold\">5</span>           ┆        ┆            ┆   ┆            ┆            ┆         ┆        │\n",
       "│ TRINITY_DN8 ┆ TRINITY_DN8 ┆ <span style=\"color: #008080; text-decoration-color: #008080; font-weight: bold\">2089</span>   ┆ <span style=\"color: #008080; text-decoration-color: #008080; font-weight: bold\">136</span>        ┆ … ┆ null       ┆ null       ┆ null    ┆ null   │\n",
       "│ 75_c0_g1_i1 ┆ 75_c0_g1_i1 ┆        ┆            ┆   ┆            ┆            ┆         ┆        │\n",
       "│ <span style=\"color: #008080; text-decoration-color: #008080; font-weight: bold\">3.</span>p2        ┆ <span style=\"color: #008080; text-decoration-color: #008080; font-weight: bold\">3</span>           ┆        ┆            ┆   ┆            ┆            ┆         ┆        │\n",
       "│ TRINITY_DN8 ┆ TRINITY_DN8 ┆ <span style=\"color: #008080; text-decoration-color: #008080; font-weight: bold\">1059</span>   ┆ <span style=\"color: #008080; text-decoration-color: #008080; font-weight: bold\">172</span>        ┆ … ┆ cytoplasm; ┆ Cytoplasm; ┆ null    ┆ null   │\n",
       "│ 8626_c0_g1_ ┆ 8626_c0_g1_ ┆        ┆            ┆   ┆ polysome;c ┆ Protein    ┆         ┆        │\n",
       "│ i1.p1       ┆ i1          ┆        ┆            ┆   ┆ ytoplasmic ┆ biosynthes ┆         ┆        │\n",
       "│             ┆             ┆        ┆            ┆   ┆ …          ┆ is…        ┆         ┆        │\n",
       "│ TRINITY_DN1 ┆ TRINITY_DN1 ┆ <span style=\"color: #008080; text-decoration-color: #008080; font-weight: bold\">508</span>    ┆ <span style=\"color: #008080; text-decoration-color: #008080; font-weight: bold\">169</span>        ┆ … ┆ null       ┆ null       ┆ null    ┆ null   │\n",
       "│ 65207_c0_g1 ┆ 65207_c0_g1 ┆        ┆            ┆   ┆            ┆            ┆         ┆        │\n",
       "│ _i1.p1      ┆ _i1         ┆        ┆            ┆   ┆            ┆            ┆         ┆        │\n",
       "└─────────────┴─────────────┴────────┴────────────┴───┴────────────┴────────────┴─────────┴────────┘\n",
       "</pre>\n"
      ],
      "text/plain": [
       "shape: \u001b[1m(\u001b[0m106_108, \u001b[1;36m35\u001b[0m\u001b[1m)\u001b[0m\n",
       "┌─────────────┬─────────────┬────────┬────────────┬───┬────────────┬────────────┬─────────┬────────┐\n",
       "│ ORF ID      ┆ Gene name   ┆ Gene   ┆ ORF length ┆ … ┆ \u001b[1;35mGO\u001b[0m\u001b[1m(\u001b[0mC\u001b[1m)\u001b[0mNAME  ┆ KEYWORD    ┆ PATHWAY ┆ GOSLIM │\n",
       "│ ---         ┆ ---         ┆ length ┆ ---        ┆   ┆ ---        ┆ ---        ┆ ---     ┆ ---    │\n",
       "│ str         ┆ str         ┆ ---    ┆ i64        ┆   ┆ str        ┆ str        ┆ str     ┆ str    │\n",
       "│             ┆             ┆ i64    ┆            ┆   ┆            ┆            ┆         ┆        │\n",
       "╞═════════════╪═════════════╪════════╪════════════╪═══╪════════════╪════════════╪═════════╪════════╡\n",
       "│ TRINITY_DN1 ┆ TRINITY_DN1 ┆ \u001b[1;36m5791\u001b[0m   ┆ \u001b[1;36m653\u001b[0m        ┆ … ┆ null       ┆ null       ┆ null    ┆ null   │\n",
       "│ 630_c0_g1_i ┆ 630_c0_g1_i ┆        ┆            ┆   ┆            ┆            ┆         ┆        │\n",
       "│ \u001b[1;36m4.\u001b[0mp1        ┆ \u001b[1;36m4\u001b[0m           ┆        ┆            ┆   ┆            ┆            ┆         ┆        │\n",
       "│ TRINITY_DN2 ┆ TRINITY_DN2 ┆ \u001b[1;36m1529\u001b[0m   ┆ \u001b[1;36m474\u001b[0m        ┆ … ┆ null       ┆ null       ┆ null    ┆ null   │\n",
       "│ 7258_c0_g1_ ┆ 7258_c0_g1_ ┆        ┆            ┆   ┆            ┆            ┆         ┆        │\n",
       "│ i5.p1       ┆ i5          ┆        ┆            ┆   ┆            ┆            ┆         ┆        │\n",
       "│ TRINITY_DN2 ┆ TRINITY_DN2 ┆ \u001b[1;36m673\u001b[0m    ┆ \u001b[1;36m129\u001b[0m        ┆ … ┆ null       ┆ null       ┆ null    ┆ null   │\n",
       "│ 10276_c0_g1 ┆ 10276_c0_g1 ┆        ┆            ┆   ┆            ┆            ┆         ┆        │\n",
       "│ _i1.p1      ┆ _i1         ┆        ┆            ┆   ┆            ┆            ┆         ┆        │\n",
       "│ TRINITY_DN2 ┆ TRINITY_DN2 ┆ \u001b[1;36m868\u001b[0m    ┆ \u001b[1;36m289\u001b[0m        ┆ … ┆ cytosol;\u001b[1;36m6\u001b[0m- ┆ ATP-bindin ┆ null    ┆ null   │\n",
       "│ 3399_c0_g1_ ┆ 3399_c0_g1_ ┆        ┆            ┆   ┆ phosphofru ┆ g;Hydrolas ┆         ┆        │\n",
       "│ i5.p1       ┆ i5          ┆        ┆            ┆   ┆ cto-\u001b[1;36m2\u001b[0m-kina ┆ e;Kinase;N ┆         ┆        │\n",
       "│             ┆             ┆        ┆            ┆   ┆ …          ┆ …          ┆         ┆        │\n",
       "│ TRINITY_DN2 ┆ TRINITY_DN2 ┆ \u001b[1;36m1625\u001b[0m   ┆ \u001b[1;36m397\u001b[0m        ┆ … ┆ null       ┆ null       ┆ null    ┆ null   │\n",
       "│ 814_c0_g1_i ┆ 814_c0_g1_i ┆        ┆            ┆   ┆            ┆            ┆         ┆        │\n",
       "│ \u001b[1;36m12.\u001b[0mp1       ┆ \u001b[1;36m12\u001b[0m          ┆        ┆            ┆   ┆            ┆            ┆         ┆        │\n",
       "│ …           ┆ …           ┆ …      ┆ …          ┆ … ┆ …          ┆ …          ┆ …       ┆ …      │\n",
       "│ TRINITY_DN6 ┆ TRINITY_DN6 ┆ \u001b[1;36m2448\u001b[0m   ┆ \u001b[1;36m320\u001b[0m        ┆ … ┆ null       ┆ null       ┆ null    ┆ null   │\n",
       "│ 750_c1_g1_i ┆ 750_c1_g1_i ┆        ┆            ┆   ┆            ┆            ┆         ┆        │\n",
       "│ \u001b[1;36m6.\u001b[0mp1        ┆ \u001b[1;36m6\u001b[0m           ┆        ┆            ┆   ┆            ┆            ┆         ┆        │\n",
       "│ TRINITY_DN6 ┆ TRINITY_DN6 ┆ \u001b[1;36m2447\u001b[0m   ┆ \u001b[1;36m320\u001b[0m        ┆ … ┆ null       ┆ null       ┆ null    ┆ null   │\n",
       "│ 750_c1_g1_i ┆ 750_c1_g1_i ┆        ┆            ┆   ┆            ┆            ┆         ┆        │\n",
       "│ \u001b[1;36m5.\u001b[0mp1        ┆ \u001b[1;36m5\u001b[0m           ┆        ┆            ┆   ┆            ┆            ┆         ┆        │\n",
       "│ TRINITY_DN8 ┆ TRINITY_DN8 ┆ \u001b[1;36m2089\u001b[0m   ┆ \u001b[1;36m136\u001b[0m        ┆ … ┆ null       ┆ null       ┆ null    ┆ null   │\n",
       "│ 75_c0_g1_i1 ┆ 75_c0_g1_i1 ┆        ┆            ┆   ┆            ┆            ┆         ┆        │\n",
       "│ \u001b[1;36m3.\u001b[0mp2        ┆ \u001b[1;36m3\u001b[0m           ┆        ┆            ┆   ┆            ┆            ┆         ┆        │\n",
       "│ TRINITY_DN8 ┆ TRINITY_DN8 ┆ \u001b[1;36m1059\u001b[0m   ┆ \u001b[1;36m172\u001b[0m        ┆ … ┆ cytoplasm; ┆ Cytoplasm; ┆ null    ┆ null   │\n",
       "│ 8626_c0_g1_ ┆ 8626_c0_g1_ ┆        ┆            ┆   ┆ polysome;c ┆ Protein    ┆         ┆        │\n",
       "│ i1.p1       ┆ i1          ┆        ┆            ┆   ┆ ytoplasmic ┆ biosynthes ┆         ┆        │\n",
       "│             ┆             ┆        ┆            ┆   ┆ …          ┆ is…        ┆         ┆        │\n",
       "│ TRINITY_DN1 ┆ TRINITY_DN1 ┆ \u001b[1;36m508\u001b[0m    ┆ \u001b[1;36m169\u001b[0m        ┆ … ┆ null       ┆ null       ┆ null    ┆ null   │\n",
       "│ 65207_c0_g1 ┆ 65207_c0_g1 ┆        ┆            ┆   ┆            ┆            ┆         ┆        │\n",
       "│ _i1.p1      ┆ _i1         ┆        ┆            ┆   ┆            ┆            ┆         ┆        │\n",
       "└─────────────┴─────────────┴────────┴────────────┴───┴────────────┴────────────┴─────────┴────────┘\n"
      ]
     },
     "metadata": {},
     "output_type": "display_data"
    },
    {
     "data": {
      "text/html": [
       "<pre style=\"white-space:pre;overflow-x:auto;line-height:normal;font-family:Menlo,'DejaVu Sans Mono',consolas,'Courier New',monospace\">shape: <span style=\"font-weight: bold\">(</span>5_837, <span style=\"color: #008080; text-decoration-color: #008080; font-weight: bold\">6</span><span style=\"font-weight: bold\">)</span>\n",
       "┌─────────────────────┬────────────────────┬────────────────────┬───────────┬──────────┬───────────┐\n",
       "│                     ┆ countsfilteredBeiR ┆ countsfilteredBeiR ┆ theta     ┆ prob     ┆ log2FC    │\n",
       "│ ---                 ┆ NA_BagBrown_…      ┆ NA_SeaWater_…      ┆ ---       ┆ ---      ┆ ---       │\n",
       "│ str                 ┆ ---                ┆ ---                ┆ f64       ┆ f64      ┆ f64       │\n",
       "│                     ┆ f64                ┆ f64                ┆           ┆          ┆           │\n",
       "╞═════════════════════╪════════════════════╪════════════════════╪═══════════╪══════════╪═══════════╡\n",
       "│ TRINITY_DN10364_c0_ ┆ <span style=\"color: #008080; text-decoration-color: #008080; font-weight: bold\">0.498321</span>           ┆ <span style=\"color: #008080; text-decoration-color: #008080; font-weight: bold\">48.792695</span>          ┆ <span style=\"color: #008080; text-decoration-color: #008080; font-weight: bold\">-1.972309</span> ┆ <span style=\"color: #008080; text-decoration-color: #008080; font-weight: bold\">1.0</span>      ┆ <span style=\"color: #008080; text-decoration-color: #008080; font-weight: bold\">-6.613447</span> │\n",
       "│ g1~~TRINITY…        ┆                    ┆                    ┆           ┆          ┆           │\n",
       "│ TRINITY_DN11499_c0_ ┆ <span style=\"color: #008080; text-decoration-color: #008080; font-weight: bold\">3.606968</span>           ┆ <span style=\"color: #008080; text-decoration-color: #008080; font-weight: bold\">909.146477</span>         ┆ <span style=\"color: #008080; text-decoration-color: #008080; font-weight: bold\">-2.232298</span> ┆ <span style=\"color: #008080; text-decoration-color: #008080; font-weight: bold\">1.0</span>      ┆ <span style=\"color: #008080; text-decoration-color: #008080; font-weight: bold\">-7.977582</span> │\n",
       "│ g1~~TRINITY…        ┆                    ┆                    ┆           ┆          ┆           │\n",
       "│ TRINITY_DN12035_c60 ┆ <span style=\"color: #008080; text-decoration-color: #008080; font-weight: bold\">492.616367</span>         ┆ <span style=\"color: #008080; text-decoration-color: #008080; font-weight: bold\">0.510999</span>           ┆ <span style=\"color: #008080; text-decoration-color: #008080; font-weight: bold\">3.823713</span>  ┆ <span style=\"color: #008080; text-decoration-color: #008080; font-weight: bold\">1.0</span>      ┆ <span style=\"color: #008080; text-decoration-color: #008080; font-weight: bold\">9.912928</span>  │\n",
       "│ _g1~~TRINIT…        ┆                    ┆                    ┆           ┆          ┆           │\n",
       "│ TRINITY_DN1212_c0_g ┆ <span style=\"color: #008080; text-decoration-color: #008080; font-weight: bold\">103.222961</span>         ┆ <span style=\"color: #008080; text-decoration-color: #008080; font-weight: bold\">51.28329</span>           ┆ <span style=\"color: #008080; text-decoration-color: #008080; font-weight: bold\">2.352558</span>  ┆ <span style=\"color: #008080; text-decoration-color: #008080; font-weight: bold\">1.0</span>      ┆ <span style=\"color: #008080; text-decoration-color: #008080; font-weight: bold\">1.009203</span>  │\n",
       "│ <span style=\"color: #008080; text-decoration-color: #008080; font-weight: bold\">1</span>~~TRINITY_…        ┆                    ┆                    ┆           ┆          ┆           │\n",
       "│ TRINITY_DN133801_c5 ┆ <span style=\"color: #008080; text-decoration-color: #008080; font-weight: bold\">143.21022</span>          ┆ <span style=\"color: #008080; text-decoration-color: #008080; font-weight: bold\">0.803017</span>           ┆ <span style=\"color: #008080; text-decoration-color: #008080; font-weight: bold\">2.169094</span>  ┆ <span style=\"color: #008080; text-decoration-color: #008080; font-weight: bold\">1.0</span>      ┆ <span style=\"color: #008080; text-decoration-color: #008080; font-weight: bold\">7.478488</span>  │\n",
       "│ _g1~~TRINIT…        ┆                    ┆                    ┆           ┆          ┆           │\n",
       "│ …                   ┆ …                  ┆ …                  ┆ …         ┆ …        ┆ …         │\n",
       "│ TRINITY_DN18600_c0_ ┆ <span style=\"color: #008080; text-decoration-color: #008080; font-weight: bold\">1.363475</span>           ┆ <span style=\"color: #008080; text-decoration-color: #008080; font-weight: bold\">2.794916</span>           ┆ <span style=\"color: #008080; text-decoration-color: #008080; font-weight: bold\">-0.452508</span> ┆ <span style=\"color: #008080; text-decoration-color: #008080; font-weight: bold\">0.950005</span> ┆ <span style=\"color: #008080; text-decoration-color: #008080; font-weight: bold\">-1.035517</span> │\n",
       "│ g1~~TRINITY…        ┆                    ┆                    ┆           ┆          ┆           │\n",
       "│ TRINITY_DN2460_c0_g ┆ <span style=\"color: #008080; text-decoration-color: #008080; font-weight: bold\">0.30279</span>            ┆ <span style=\"color: #008080; text-decoration-color: #008080; font-weight: bold\">0.645784</span>           ┆ <span style=\"color: #008080; text-decoration-color: #008080; font-weight: bold\">-0.452295</span> ┆ <span style=\"color: #008080; text-decoration-color: #008080; font-weight: bold\">0.950003</span> ┆ <span style=\"color: #008080; text-decoration-color: #008080; font-weight: bold\">-1.092732</span> │\n",
       "│ <span style=\"color: #008080; text-decoration-color: #008080; font-weight: bold\">1</span>~~TRINITY_…        ┆                    ┆                    ┆           ┆          ┆           │\n",
       "│ TRINITY_DN1743_c0_g ┆ <span style=\"color: #008080; text-decoration-color: #008080; font-weight: bold\">0.702961</span>           ┆ <span style=\"color: #008080; text-decoration-color: #008080; font-weight: bold\">1.526757</span>           ┆ <span style=\"color: #008080; text-decoration-color: #008080; font-weight: bold\">-0.452204</span> ┆ <span style=\"color: #008080; text-decoration-color: #008080; font-weight: bold\">0.950002</span> ┆ <span style=\"color: #008080; text-decoration-color: #008080; font-weight: bold\">-1.118954</span> │\n",
       "│ <span style=\"color: #008080; text-decoration-color: #008080; font-weight: bold\">1</span>~~TRINITY_…        ┆                    ┆                    ┆           ┆          ┆           │\n",
       "│ TRINITY_DN64467_c1_ ┆ <span style=\"color: #008080; text-decoration-color: #008080; font-weight: bold\">126.185108</span>         ┆ <span style=\"color: #008080; text-decoration-color: #008080; font-weight: bold\">179.536743</span>         ┆ <span style=\"color: #008080; text-decoration-color: #008080; font-weight: bold\">-0.452157</span> ┆ <span style=\"color: #008080; text-decoration-color: #008080; font-weight: bold\">0.950002</span> ┆ <span style=\"color: #008080; text-decoration-color: #008080; font-weight: bold\">-0.508737</span> │\n",
       "│ g1~~TRINITY…        ┆                    ┆                    ┆           ┆          ┆           │\n",
       "│ TRINITY_DN4033_c0_g ┆ <span style=\"color: #008080; text-decoration-color: #008080; font-weight: bold\">55.717324</span>          ┆ <span style=\"color: #008080; text-decoration-color: #008080; font-weight: bold\">69.302335</span>          ┆ <span style=\"color: #008080; text-decoration-color: #008080; font-weight: bold\">-0.453686</span> ┆ <span style=\"color: #008080; text-decoration-color: #008080; font-weight: bold\">0.950001</span> ┆ <span style=\"color: #008080; text-decoration-color: #008080; font-weight: bold\">-0.314778</span> │\n",
       "│ <span style=\"color: #008080; text-decoration-color: #008080; font-weight: bold\">1</span>~~TRINITY_…        ┆                    ┆                    ┆           ┆          ┆           │\n",
       "└─────────────────────┴────────────────────┴────────────────────┴───────────┴──────────┴───────────┘\n",
       "</pre>\n"
      ],
      "text/plain": [
       "shape: \u001b[1m(\u001b[0m5_837, \u001b[1;36m6\u001b[0m\u001b[1m)\u001b[0m\n",
       "┌─────────────────────┬────────────────────┬────────────────────┬───────────┬──────────┬───────────┐\n",
       "│                     ┆ countsfilteredBeiR ┆ countsfilteredBeiR ┆ theta     ┆ prob     ┆ log2FC    │\n",
       "│ ---                 ┆ NA_BagBrown_…      ┆ NA_SeaWater_…      ┆ ---       ┆ ---      ┆ ---       │\n",
       "│ str                 ┆ ---                ┆ ---                ┆ f64       ┆ f64      ┆ f64       │\n",
       "│                     ┆ f64                ┆ f64                ┆           ┆          ┆           │\n",
       "╞═════════════════════╪════════════════════╪════════════════════╪═══════════╪══════════╪═══════════╡\n",
       "│ TRINITY_DN10364_c0_ ┆ \u001b[1;36m0.498321\u001b[0m           ┆ \u001b[1;36m48.792695\u001b[0m          ┆ \u001b[1;36m-1.972309\u001b[0m ┆ \u001b[1;36m1.0\u001b[0m      ┆ \u001b[1;36m-6.613447\u001b[0m │\n",
       "│ g1~~TRINITY…        ┆                    ┆                    ┆           ┆          ┆           │\n",
       "│ TRINITY_DN11499_c0_ ┆ \u001b[1;36m3.606968\u001b[0m           ┆ \u001b[1;36m909.146477\u001b[0m         ┆ \u001b[1;36m-2.232298\u001b[0m ┆ \u001b[1;36m1.0\u001b[0m      ┆ \u001b[1;36m-7.977582\u001b[0m │\n",
       "│ g1~~TRINITY…        ┆                    ┆                    ┆           ┆          ┆           │\n",
       "│ TRINITY_DN12035_c60 ┆ \u001b[1;36m492.616367\u001b[0m         ┆ \u001b[1;36m0.510999\u001b[0m           ┆ \u001b[1;36m3.823713\u001b[0m  ┆ \u001b[1;36m1.0\u001b[0m      ┆ \u001b[1;36m9.912928\u001b[0m  │\n",
       "│ _g1~~TRINIT…        ┆                    ┆                    ┆           ┆          ┆           │\n",
       "│ TRINITY_DN1212_c0_g ┆ \u001b[1;36m103.222961\u001b[0m         ┆ \u001b[1;36m51.28329\u001b[0m           ┆ \u001b[1;36m2.352558\u001b[0m  ┆ \u001b[1;36m1.0\u001b[0m      ┆ \u001b[1;36m1.009203\u001b[0m  │\n",
       "│ \u001b[1;36m1\u001b[0m~~TRINITY_…        ┆                    ┆                    ┆           ┆          ┆           │\n",
       "│ TRINITY_DN133801_c5 ┆ \u001b[1;36m143.21022\u001b[0m          ┆ \u001b[1;36m0.803017\u001b[0m           ┆ \u001b[1;36m2.169094\u001b[0m  ┆ \u001b[1;36m1.0\u001b[0m      ┆ \u001b[1;36m7.478488\u001b[0m  │\n",
       "│ _g1~~TRINIT…        ┆                    ┆                    ┆           ┆          ┆           │\n",
       "│ …                   ┆ …                  ┆ …                  ┆ …         ┆ …        ┆ …         │\n",
       "│ TRINITY_DN18600_c0_ ┆ \u001b[1;36m1.363475\u001b[0m           ┆ \u001b[1;36m2.794916\u001b[0m           ┆ \u001b[1;36m-0.452508\u001b[0m ┆ \u001b[1;36m0.950005\u001b[0m ┆ \u001b[1;36m-1.035517\u001b[0m │\n",
       "│ g1~~TRINITY…        ┆                    ┆                    ┆           ┆          ┆           │\n",
       "│ TRINITY_DN2460_c0_g ┆ \u001b[1;36m0.30279\u001b[0m            ┆ \u001b[1;36m0.645784\u001b[0m           ┆ \u001b[1;36m-0.452295\u001b[0m ┆ \u001b[1;36m0.950003\u001b[0m ┆ \u001b[1;36m-1.092732\u001b[0m │\n",
       "│ \u001b[1;36m1\u001b[0m~~TRINITY_…        ┆                    ┆                    ┆           ┆          ┆           │\n",
       "│ TRINITY_DN1743_c0_g ┆ \u001b[1;36m0.702961\u001b[0m           ┆ \u001b[1;36m1.526757\u001b[0m           ┆ \u001b[1;36m-0.452204\u001b[0m ┆ \u001b[1;36m0.950002\u001b[0m ┆ \u001b[1;36m-1.118954\u001b[0m │\n",
       "│ \u001b[1;36m1\u001b[0m~~TRINITY_…        ┆                    ┆                    ┆           ┆          ┆           │\n",
       "│ TRINITY_DN64467_c1_ ┆ \u001b[1;36m126.185108\u001b[0m         ┆ \u001b[1;36m179.536743\u001b[0m         ┆ \u001b[1;36m-0.452157\u001b[0m ┆ \u001b[1;36m0.950002\u001b[0m ┆ \u001b[1;36m-0.508737\u001b[0m │\n",
       "│ g1~~TRINITY…        ┆                    ┆                    ┆           ┆          ┆           │\n",
       "│ TRINITY_DN4033_c0_g ┆ \u001b[1;36m55.717324\u001b[0m          ┆ \u001b[1;36m69.302335\u001b[0m          ┆ \u001b[1;36m-0.453686\u001b[0m ┆ \u001b[1;36m0.950001\u001b[0m ┆ \u001b[1;36m-0.314778\u001b[0m │\n",
       "│ \u001b[1;36m1\u001b[0m~~TRINITY_…        ┆                    ┆                    ┆           ┆          ┆           │\n",
       "└─────────────────────┴────────────────────┴────────────────────┴───────────┴──────────┴───────────┘\n"
      ]
     },
     "metadata": {},
     "output_type": "display_data"
    }
   ],
   "source": [
    "df_annotations=get_df(r\"merge_tables\\BeiRNA\\BeiRNA_JoinedAnnotations.tsv\")\n",
    "df_counts=get_df(r\"merge_tables\\BeiRNA\\countsfilteredBeiRNA_BagBrown_vs_countsfilteredBeiRNA_SeaWater.txt\")\n",
    "\n",
    "print(df_annotations)\n",
    "print(df_counts)\n",
    "\n"
   ]
  },
  {
   "cell_type": "markdown",
   "id": "b3abc87b",
   "metadata": {},
   "source": [
    "## Validar la tabla de annotations \n",
    " En este caso tengo que ver si la tabla tiene 15 o 35 columnas, si tiene solo 15 devuelve un df con estas tres X.ID\", \"GENENAME\", \"DESCRIPTION\". Si la tabla tiene 35 se quedas solo con estas 12 (\"ORF.ID\", \"Gene.name\", \"Gene.length\", \"ORF.length\", \"ORF.start\",\n",
    "  \"ORF.end\", \"Strand\", \"Protein.sequence\", \"Pfam\", \"InterPro\",\n",
    "  \"GENENAME\", \"DESCRIPTION\").\n",
    "\n",
    "Si tiene cualquier otro número de columnas lanzar un error e indicar que hay que usar una con 15 o 35"
   ]
  },
  {
   "cell_type": "code",
   "execution_count": 23,
   "id": "1a7b5a10",
   "metadata": {},
   "outputs": [],
   "source": [
    "def validate_annotation_table(df):\n",
    "    if df.width == 15:\n",
    "        header = [\"X.ID\", \"GENENAME\", \"DESCRIPTION\"]\n",
    "        missing_columns = []\n",
    "\n",
    "        console.print(f\"El DataFrame {df} contiene [bold green]15[/] columnas.\")\n",
    "\n",
    "        for column in header:\n",
    "            if column not in df.columns:\n",
    "                column.append(missing_colums)    \n",
    "\n",
    "        if len(missing_columns)!= 0:\n",
    "            console.print(f\"[bold red]:x:[/] La(s) columna(s) [white italic]{missing_colums}[/] no está(n) presente(s) en el DataFrame {df}.\")\n",
    "\n",
    "        else:        \n",
    "            console.print(f\"[bold yellow]:warning: Se seleccionarán las siguientes columnas del DataFrame: [bold white]{header}[/]\")\n",
    "            return df.select([\"X.ID\", \"GENENAME\", \"DESCRIPTION\"])\n",
    "\n",
    "    if df.width == 35:\n",
    "        header = [\"ORF.ID\", \"Gene.name\", \"Gene.length\", \"ORF.length\", \"ORF.start\", \"ORF.end\", \n",
    "                  \"Strand\", \"Protein.sequence\", \"Pfam\", \"InterPro\", \"GENENAME\", \"DESCRIPTION\"]\n",
    "        missing_colums = []\n",
    "\n",
    "        console.print(f\"El DataFrame {df} contiene [bold green]35[/] columnas.\")\n",
    "\n",
    "        for column in header:\n",
    "            if column not in df.columns:\n",
    "                column.append(missing_colums)    \n",
    "\n",
    "        if len(missing_columns)!= 0:\n",
    "            console.print(f\"[bold red]:x:[/] La(s) columna(s) [white italic]{missing_colums}[/] no está(n) presente(s) en el DataFrame {df}.\")\n",
    "\n",
    "        else:        \n",
    "            console.print(f\"[bold yellow]:warning: Se seleccionarán las siguientes columnas del DataFrame: [bold white]{header}[/]\")\n",
    "            return df.select([\"ORF.ID\", \"Gene.name\", \"Gene.length\", \"ORF.length\", \"ORF.start\", \"ORF.end\", \n",
    "                          \"Strand\", \"Protein.sequence\", \"Pfam\", \"InterPro\", \"GENENAME\", \"DESCRIPTION\"])\n",
    "    \n",
    "    else: \n",
    "        console.print(f\"[bold red]:x:[/] DataFrame no válido. Debe contener 15 o 35 columnas.\")"
   ]
  }
 ],
 "metadata": {
  "kernelspec": {
   "display_name": "Python 3",
   "language": "python",
   "name": "python3"
  },
  "language_info": {
   "codemirror_mode": {
    "name": "ipython",
    "version": 3
   },
   "file_extension": ".py",
   "mimetype": "text/x-python",
   "name": "python",
   "nbconvert_exporter": "python",
   "pygments_lexer": "ipython3",
   "version": "3.13.6"
  }
 },
 "nbformat": 4,
 "nbformat_minor": 5
}
