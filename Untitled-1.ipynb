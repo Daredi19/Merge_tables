{
 "cells": [
  {
   "cell_type": "code",
   "execution_count": null,
   "id": "5e28d71c",
   "metadata": {},
   "outputs": [],
   "source": [
    "import polars as pl\n",
    "import os\n",
    "import re\n",
    "from rich import print\n",
    "from rich.console import Console\n",
    "from pathlib import Path\n",
    "import csv\n",
    "from itertools import islice\n",
    "\n",
    "console = Console()\n"
   ]
  },
  {
   "cell_type": "code",
   "execution_count": 4,
   "id": "a01b6ca2",
   "metadata": {},
   "outputs": [],
   "source": [
    "def get_df(file_path):\n",
    "  '''Carga un archivo, detecta su separador y devuelve un dataframe.\n",
    "\n",
    "  Args:\n",
    "      file_path(str): Ruta del archivo.\n",
    "\n",
    "  Returns:\n",
    "      pl.DataFrame: DataFrame con los datos.\n",
    "  '''\n",
    "\n",
    "  try:\n",
    "\n",
    "    file_path = Path(file_path).resolve()\n",
    "    print(f\"[yellow]:warning:[/] Se utilizará el siguiente archivo [bold green]{file_path.name}[/]\")\n",
    "\n",
    "    with open(file_path, 'r', newline='', encoding='utf-8') as f:\n",
    "\n",
    "        sample = ''.join(islice(f, 5)) # Lee (solo) las 5 primeras lineas y las concatena en una cadena ('' hace que no se meta nada en el medio) (Problema csvfile.readlines(): leería todo el archivo y despues se cogerian las 5 primeras)\n",
    "\n",
    "        delimiter = csv.Sniffer().sniff(sample).delimiter # La clase sniffer detecta el formato de un csv. Sniff es un metodo que devuelve el objeto Dialect. delimiter es un atributo de dialect que contiene el separador\n",
    "        print(f\"[yellow]:warning:[/] Se ha detectado el separador: [bold yellow]{repr(delimiter)}[/]\")\n",
    "\n",
    "        f.seek(0) # Para devolver el puntero al principio del archivo\n",
    "\n",
    "        df = pl.read_csv(f, separator=delimiter) # Polars lee todo el archivo y devuelve el dataframe\n",
    "\n",
    "    #with console.pager(styles=True): # Para que se abra la tabla como un scrolleable (esto lo puse por probar a usarlo porque polars te limita las lineas)\n",
    "        #console.print(f\"[bold] :bar_chart: Dataframe: [/] \\n {df}\")\n",
    "    return df\n",
    "\n",
    "  except FileNotFoundError:\n",
    "      console.print(f\":x: Archivo no encontrado en la ruta: {file_path}\")"
   ]
  },
  {
   "cell_type": "code",
   "execution_count": 5,
   "id": "ebec5e94",
   "metadata": {},
   "outputs": [
    {
     "name": "stderr",
     "output_type": "stream",
     "text": [
      "<>:1: SyntaxWarning: invalid escape sequence '\\m'\n",
      "<>:1: SyntaxWarning: invalid escape sequence '\\m'\n",
      "C:\\Users\\Darío\\AppData\\Local\\Temp\\ipykernel_25688\\2702453703.py:1: SyntaxWarning: invalid escape sequence '\\m'\n",
      "  df=get_df(\"Script_tablas\\merge_tables\\RNAMallo\\RNAMallo_JoinedAnnotations.tsv\")\n"
     ]
    },
    {
     "data": {
      "text/html": [
       "<pre style=\"white-space:pre;overflow-x:auto;line-height:normal;font-family:Menlo,'DejaVu Sans Mono',consolas,'Courier New',monospace\"><span style=\"color: #808000; text-decoration-color: #808000\">⚠</span> Se utilizará el siguiente archivo <span style=\"color: #008000; text-decoration-color: #008000; font-weight: bold\">RNAMallo_JoinedAnnotations.tsv</span>\n",
       "</pre>\n"
      ],
      "text/plain": [
       "\u001b[33m⚠\u001b[0m Se utilizará el siguiente archivo \u001b[1;32mRNAMallo_JoinedAnnotations.tsv\u001b[0m\n"
      ]
     },
     "metadata": {},
     "output_type": "display_data"
    },
    {
     "data": {
      "text/html": [
       "<pre style=\"white-space:pre;overflow-x:auto;line-height:normal;font-family:Menlo,'DejaVu Sans Mono',consolas,'Courier New',monospace\"><span style=\"color: #808000; text-decoration-color: #808000\">⚠</span> Se ha detectado el separador: <span style=\"color: #808000; text-decoration-color: #808000; font-weight: bold\">'\\t'</span>\n",
       "</pre>\n"
      ],
      "text/plain": [
       "\u001b[33m⚠\u001b[0m Se ha detectado el separador: \u001b[1;33m'\\t'\u001b[0m\n"
      ]
     },
     "metadata": {},
     "output_type": "display_data"
    },
    {
     "data": {
      "text/html": [
       "<pre style=\"white-space:pre;overflow-x:auto;line-height:normal;font-family:Menlo,'DejaVu Sans Mono',consolas,'Courier New',monospace\">shape: <span style=\"font-weight: bold\">(</span>8_959, <span style=\"color: #008080; text-decoration-color: #008080; font-weight: bold\">35</span><span style=\"font-weight: bold\">)</span>\n",
       "┌──────────────┬─────────────┬────────────┬──────────┬───┬─────────┬───────────┬─────────┬─────────┐\n",
       "│ #ID          ┆ Scaffold    ┆ Gene start ┆ Gene end ┆ … ┆ <span style=\"color: #800080; text-decoration-color: #800080; font-weight: bold\">GO</span><span style=\"font-weight: bold\">(</span>C<span style=\"font-weight: bold\">)</span>ID ┆ <span style=\"color: #800080; text-decoration-color: #800080; font-weight: bold\">GO</span><span style=\"font-weight: bold\">(</span>C<span style=\"font-weight: bold\">)</span>NAME ┆ KEYWORD ┆ PATHWAY │\n",
       "│ ---          ┆ name        ┆ ---        ┆ ---      ┆   ┆ ---     ┆ ---       ┆ ---     ┆ ---     │\n",
       "│ str          ┆ ---         ┆ i64        ┆ i64      ┆   ┆ str     ┆ str       ┆ str     ┆ str     │\n",
       "│              ┆ str         ┆            ┆          ┆   ┆         ┆           ┆         ┆         │\n",
       "╞══════════════╪═════════════╪════════════╪══════════╪═══╪═════════╪═══════════╪═════════╪═════════╡\n",
       "│ TRINITY_DN31 ┆ TRINITY_DN3 ┆ <span style=\"color: #008080; text-decoration-color: #008080; font-weight: bold\">1</span>          ┆ <span style=\"color: #008080; text-decoration-color: #008080; font-weight: bold\">364</span>      ┆ … ┆ null    ┆ null      ┆ null    ┆ null    │\n",
       "│ 601_c0_g1::T ┆ 1601_c0_g1_ ┆            ┆          ┆   ┆         ┆           ┆         ┆         │\n",
       "│ RINITY…      ┆ i1          ┆            ┆          ┆   ┆         ┆           ┆         ┆         │\n",
       "│ TRINITY_DN23 ┆ TRINITY_DN2 ┆ <span style=\"color: #008080; text-decoration-color: #008080; font-weight: bold\">1</span>          ┆ <span style=\"color: #008080; text-decoration-color: #008080; font-weight: bold\">590</span>      ┆ … ┆ null    ┆ null      ┆ null    ┆ null    │\n",
       "│ 1_c0_g1::TRI ┆ 31_c0_g1_i1 ┆            ┆          ┆   ┆         ┆           ┆         ┆         │\n",
       "│ NITY_D…      ┆             ┆            ┆          ┆   ┆         ┆           ┆         ┆         │\n",
       "│ TRINITY_DN87 ┆ TRINITY_DN8 ┆ <span style=\"color: #008080; text-decoration-color: #008080; font-weight: bold\">1</span>          ┆ <span style=\"color: #008080; text-decoration-color: #008080; font-weight: bold\">377</span>      ┆ … ┆ null    ┆ null      ┆ null    ┆ null    │\n",
       "│ 811_c0_g1::T ┆ 7811_c0_g1_ ┆            ┆          ┆   ┆         ┆           ┆         ┆         │\n",
       "│ RINITY…      ┆ i1          ┆            ┆          ┆   ┆         ┆           ┆         ┆         │\n",
       "│ TRINITY_DN86 ┆ TRINITY_DN8 ┆ <span style=\"color: #008080; text-decoration-color: #008080; font-weight: bold\">1</span>          ┆ <span style=\"color: #008080; text-decoration-color: #008080; font-weight: bold\">371</span>      ┆ … ┆ null    ┆ null      ┆ null    ┆ null    │\n",
       "│ 909_c0_g1::T ┆ 6909_c0_g1_ ┆            ┆          ┆   ┆         ┆           ┆         ┆         │\n",
       "│ RINITY…      ┆ i1          ┆            ┆          ┆   ┆         ┆           ┆         ┆         │\n",
       "│ TRINITY_DN10 ┆ TRINITY_DN1 ┆ <span style=\"color: #008080; text-decoration-color: #008080; font-weight: bold\">1</span>          ┆ <span style=\"color: #008080; text-decoration-color: #008080; font-weight: bold\">371</span>      ┆ … ┆ null    ┆ null      ┆ null    ┆ null    │\n",
       "│ 037_c0_g1::T ┆ 0037_c0_g1_ ┆            ┆          ┆   ┆         ┆           ┆         ┆         │\n",
       "│ RINITY…      ┆ i1          ┆            ┆          ┆   ┆         ┆           ┆         ┆         │\n",
       "│ …            ┆ …           ┆ …          ┆ …        ┆ … ┆ …       ┆ …         ┆ …       ┆ …       │\n",
       "│ TRINITY_DN80 ┆ TRINITY_DN8 ┆ <span style=\"color: #008080; text-decoration-color: #008080; font-weight: bold\">1</span>          ┆ <span style=\"color: #008080; text-decoration-color: #008080; font-weight: bold\">334</span>      ┆ … ┆ null    ┆ null      ┆ null    ┆ null    │\n",
       "│ 387_c0_g1::T ┆ 0387_c0_g1_ ┆            ┆          ┆   ┆         ┆           ┆         ┆         │\n",
       "│ RINITY…      ┆ i1          ┆            ┆          ┆   ┆         ┆           ┆         ┆         │\n",
       "│ TRINITY_DN32 ┆ TRINITY_DN3 ┆ <span style=\"color: #008080; text-decoration-color: #008080; font-weight: bold\">1</span>          ┆ <span style=\"color: #008080; text-decoration-color: #008080; font-weight: bold\">396</span>      ┆ … ┆ null    ┆ null      ┆ null    ┆ null    │\n",
       "│ 875_c0_g1::T ┆ 2875_c0_g1_ ┆            ┆          ┆   ┆         ┆           ┆         ┆         │\n",
       "│ RINITY…      ┆ i1          ┆            ┆          ┆   ┆         ┆           ┆         ┆         │\n",
       "│ TRINITY_DN73 ┆ TRINITY_DN7 ┆ <span style=\"color: #008080; text-decoration-color: #008080; font-weight: bold\">1</span>          ┆ <span style=\"color: #008080; text-decoration-color: #008080; font-weight: bold\">299</span>      ┆ … ┆ null    ┆ null      ┆ null    ┆ null    │\n",
       "│ 35_c0_g1::TR ┆ 335_c0_g1_i ┆            ┆          ┆   ┆         ┆           ┆         ┆         │\n",
       "│ INITY_…      ┆ <span style=\"color: #008080; text-decoration-color: #008080; font-weight: bold\">1</span>           ┆            ┆          ┆   ┆         ┆           ┆         ┆         │\n",
       "│ TRINITY_DN86 ┆ TRINITY_DN8 ┆ <span style=\"color: #008080; text-decoration-color: #008080; font-weight: bold\">1</span>          ┆ <span style=\"color: #008080; text-decoration-color: #008080; font-weight: bold\">425</span>      ┆ … ┆ null    ┆ null      ┆ null    ┆ null    │\n",
       "│ 466_c0_g1::T ┆ 6466_c0_g1_ ┆            ┆          ┆   ┆         ┆           ┆         ┆         │\n",
       "│ RINITY…      ┆ i1          ┆            ┆          ┆   ┆         ┆           ┆         ┆         │\n",
       "│ TRINITY_DN57 ┆ TRINITY_DN5 ┆ <span style=\"color: #008080; text-decoration-color: #008080; font-weight: bold\">1</span>          ┆ <span style=\"color: #008080; text-decoration-color: #008080; font-weight: bold\">425</span>      ┆ … ┆ null    ┆ null      ┆ null    ┆ null    │\n",
       "│ 932_c0_g1::T ┆ 7932_c0_g1_ ┆            ┆          ┆   ┆         ┆           ┆         ┆         │\n",
       "│ RINITY…      ┆ i1          ┆            ┆          ┆   ┆         ┆           ┆         ┆         │\n",
       "└──────────────┴─────────────┴────────────┴──────────┴───┴─────────┴───────────┴─────────┴─────────┘\n",
       "</pre>\n"
      ],
      "text/plain": [
       "shape: \u001b[1m(\u001b[0m8_959, \u001b[1;36m35\u001b[0m\u001b[1m)\u001b[0m\n",
       "┌──────────────┬─────────────┬────────────┬──────────┬───┬─────────┬───────────┬─────────┬─────────┐\n",
       "│ #ID          ┆ Scaffold    ┆ Gene start ┆ Gene end ┆ … ┆ \u001b[1;35mGO\u001b[0m\u001b[1m(\u001b[0mC\u001b[1m)\u001b[0mID ┆ \u001b[1;35mGO\u001b[0m\u001b[1m(\u001b[0mC\u001b[1m)\u001b[0mNAME ┆ KEYWORD ┆ PATHWAY │\n",
       "│ ---          ┆ name        ┆ ---        ┆ ---      ┆   ┆ ---     ┆ ---       ┆ ---     ┆ ---     │\n",
       "│ str          ┆ ---         ┆ i64        ┆ i64      ┆   ┆ str     ┆ str       ┆ str     ┆ str     │\n",
       "│              ┆ str         ┆            ┆          ┆   ┆         ┆           ┆         ┆         │\n",
       "╞══════════════╪═════════════╪════════════╪══════════╪═══╪═════════╪═══════════╪═════════╪═════════╡\n",
       "│ TRINITY_DN31 ┆ TRINITY_DN3 ┆ \u001b[1;36m1\u001b[0m          ┆ \u001b[1;36m364\u001b[0m      ┆ … ┆ null    ┆ null      ┆ null    ┆ null    │\n",
       "│ 601_c0_g1::T ┆ 1601_c0_g1_ ┆            ┆          ┆   ┆         ┆           ┆         ┆         │\n",
       "│ RINITY…      ┆ i1          ┆            ┆          ┆   ┆         ┆           ┆         ┆         │\n",
       "│ TRINITY_DN23 ┆ TRINITY_DN2 ┆ \u001b[1;36m1\u001b[0m          ┆ \u001b[1;36m590\u001b[0m      ┆ … ┆ null    ┆ null      ┆ null    ┆ null    │\n",
       "│ 1_c0_g1::TRI ┆ 31_c0_g1_i1 ┆            ┆          ┆   ┆         ┆           ┆         ┆         │\n",
       "│ NITY_D…      ┆             ┆            ┆          ┆   ┆         ┆           ┆         ┆         │\n",
       "│ TRINITY_DN87 ┆ TRINITY_DN8 ┆ \u001b[1;36m1\u001b[0m          ┆ \u001b[1;36m377\u001b[0m      ┆ … ┆ null    ┆ null      ┆ null    ┆ null    │\n",
       "│ 811_c0_g1::T ┆ 7811_c0_g1_ ┆            ┆          ┆   ┆         ┆           ┆         ┆         │\n",
       "│ RINITY…      ┆ i1          ┆            ┆          ┆   ┆         ┆           ┆         ┆         │\n",
       "│ TRINITY_DN86 ┆ TRINITY_DN8 ┆ \u001b[1;36m1\u001b[0m          ┆ \u001b[1;36m371\u001b[0m      ┆ … ┆ null    ┆ null      ┆ null    ┆ null    │\n",
       "│ 909_c0_g1::T ┆ 6909_c0_g1_ ┆            ┆          ┆   ┆         ┆           ┆         ┆         │\n",
       "│ RINITY…      ┆ i1          ┆            ┆          ┆   ┆         ┆           ┆         ┆         │\n",
       "│ TRINITY_DN10 ┆ TRINITY_DN1 ┆ \u001b[1;36m1\u001b[0m          ┆ \u001b[1;36m371\u001b[0m      ┆ … ┆ null    ┆ null      ┆ null    ┆ null    │\n",
       "│ 037_c0_g1::T ┆ 0037_c0_g1_ ┆            ┆          ┆   ┆         ┆           ┆         ┆         │\n",
       "│ RINITY…      ┆ i1          ┆            ┆          ┆   ┆         ┆           ┆         ┆         │\n",
       "│ …            ┆ …           ┆ …          ┆ …        ┆ … ┆ …       ┆ …         ┆ …       ┆ …       │\n",
       "│ TRINITY_DN80 ┆ TRINITY_DN8 ┆ \u001b[1;36m1\u001b[0m          ┆ \u001b[1;36m334\u001b[0m      ┆ … ┆ null    ┆ null      ┆ null    ┆ null    │\n",
       "│ 387_c0_g1::T ┆ 0387_c0_g1_ ┆            ┆          ┆   ┆         ┆           ┆         ┆         │\n",
       "│ RINITY…      ┆ i1          ┆            ┆          ┆   ┆         ┆           ┆         ┆         │\n",
       "│ TRINITY_DN32 ┆ TRINITY_DN3 ┆ \u001b[1;36m1\u001b[0m          ┆ \u001b[1;36m396\u001b[0m      ┆ … ┆ null    ┆ null      ┆ null    ┆ null    │\n",
       "│ 875_c0_g1::T ┆ 2875_c0_g1_ ┆            ┆          ┆   ┆         ┆           ┆         ┆         │\n",
       "│ RINITY…      ┆ i1          ┆            ┆          ┆   ┆         ┆           ┆         ┆         │\n",
       "│ TRINITY_DN73 ┆ TRINITY_DN7 ┆ \u001b[1;36m1\u001b[0m          ┆ \u001b[1;36m299\u001b[0m      ┆ … ┆ null    ┆ null      ┆ null    ┆ null    │\n",
       "│ 35_c0_g1::TR ┆ 335_c0_g1_i ┆            ┆          ┆   ┆         ┆           ┆         ┆         │\n",
       "│ INITY_…      ┆ \u001b[1;36m1\u001b[0m           ┆            ┆          ┆   ┆         ┆           ┆         ┆         │\n",
       "│ TRINITY_DN86 ┆ TRINITY_DN8 ┆ \u001b[1;36m1\u001b[0m          ┆ \u001b[1;36m425\u001b[0m      ┆ … ┆ null    ┆ null      ┆ null    ┆ null    │\n",
       "│ 466_c0_g1::T ┆ 6466_c0_g1_ ┆            ┆          ┆   ┆         ┆           ┆         ┆         │\n",
       "│ RINITY…      ┆ i1          ┆            ┆          ┆   ┆         ┆           ┆         ┆         │\n",
       "│ TRINITY_DN57 ┆ TRINITY_DN5 ┆ \u001b[1;36m1\u001b[0m          ┆ \u001b[1;36m425\u001b[0m      ┆ … ┆ null    ┆ null      ┆ null    ┆ null    │\n",
       "│ 932_c0_g1::T ┆ 7932_c0_g1_ ┆            ┆          ┆   ┆         ┆           ┆         ┆         │\n",
       "│ RINITY…      ┆ i1          ┆            ┆          ┆   ┆         ┆           ┆         ┆         │\n",
       "└──────────────┴─────────────┴────────────┴──────────┴───┴─────────┴───────────┴─────────┴─────────┘\n"
      ]
     },
     "metadata": {},
     "output_type": "display_data"
    },
    {
     "data": {
      "text/html": [
       "<pre style=\"white-space:pre;overflow-x:auto;line-height:normal;font-family:Menlo,'DejaVu Sans Mono',consolas,'Courier New',monospace\">c:\\Users\\Darío\\AllGenetics\n",
       "</pre>\n"
      ],
      "text/plain": [
       "c:\\Users\\Darío\\AllGenetics\n"
      ]
     },
     "metadata": {},
     "output_type": "display_data"
    }
   ],
   "source": [
    "df=get_df(\"Script_tablas\\merge_tables\\RNAMallo\\RNAMallo_JoinedAnnotations.tsv\")\n",
    "print(df)\n",
    "print(os.getcwd())\n"
   ]
  }
 ],
 "metadata": {
  "kernelspec": {
   "display_name": "Python 3",
   "language": "python",
   "name": "python3"
  },
  "language_info": {
   "codemirror_mode": {
    "name": "ipython",
    "version": 3
   },
   "file_extension": ".py",
   "mimetype": "text/x-python",
   "name": "python",
   "nbconvert_exporter": "python",
   "pygments_lexer": "ipython3",
   "version": "3.13.6"
  }
 },
 "nbformat": 4,
 "nbformat_minor": 5
}
