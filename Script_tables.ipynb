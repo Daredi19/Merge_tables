{
 "cells": [
  {
   "cell_type": "code",
   "execution_count": 154,
   "id": "5e28d71c",
   "metadata": {},
   "outputs": [],
   "source": [
    "import polars as pl\n",
    "import os\n",
    "import re\n",
    "from rich import print\n",
    "from rich.console import Console\n",
    "from pathlib import Path\n",
    "import csv\n",
    "from itertools import islice\n",
    "\n",
    "console = Console()\n"
   ]
  },
  {
   "cell_type": "code",
   "execution_count": 155,
   "id": "a01b6ca2",
   "metadata": {},
   "outputs": [],
   "source": [
    "def get_df(file_path):\n",
    "  '''Carga un archivo, detecta su separador y devuelve un dataframe.\n",
    "\n",
    "  Args:\n",
    "      file_path(str): Ruta del archivo.\n",
    "\n",
    "  Returns:\n",
    "      pl.DataFrame: DataFrame con los datos.\n",
    "  '''\n",
    "\n",
    "  try:\n",
    "\n",
    "    file_path = Path(file_path).resolve()\n",
    "    print(f\"[yellow]:warning:[/] Se utilizará el siguiente archivo [bold green]{file_path.name}[/]\")\n",
    "\n",
    "    with open(file_path, 'r', newline='', encoding='utf-8') as f:\n",
    "\n",
    "        sample = ''.join(islice(f, 5)) # Lee (solo) las 5 primeras lineas y las concatena en una cadena ('' hace que no se meta nada en el medio) (Problema csvfile.readlines(): leería todo el archivo y despues se cogerian las 5 primeras)\n",
    "\n",
    "        delimiter = csv.Sniffer().sniff(sample).delimiter # La clase sniffer detecta el formato de un csv. Sniff es un metodo que devuelve el objeto Dialect. delimiter es un atributo de dialect que contiene el separador\n",
    "        print(f\"[yellow]:warning:[/] Se ha detectado el separador: [bold yellow]{repr(delimiter)}[/]\")\n",
    "\n",
    "        f.seek(0) # Para devolver el puntero al principio del archivo\n",
    "\n",
    "        df = pl.read_csv(f, separator=delimiter, infer_schema_length=10000) # Polars lee todo el archivo y devuelve el dataframe, aumentamos el infer_schema_length para que detecte bien los tipos de dato de la columna prob\n",
    "\n",
    "    #with console.pager(styles=True): # Para que se abra la tabla como un scrolleable (esto lo puse por probar a usarlo porque polars te limita las lineas)\n",
    "        #console.print(f\"[bold] :bar_chart: Dataframe: [/] \\n {df}\")\n",
    "    return df\n",
    "\n",
    "  except FileNotFoundError:\n",
    "      console.print(f\":x: Archivo no encontrado en la ruta: {file_path}\")"
   ]
  },
  {
   "cell_type": "code",
   "execution_count": 156,
   "id": "ebec5e94",
   "metadata": {},
   "outputs": [
    {
     "data": {
      "text/html": [
       "<pre style=\"white-space:pre;overflow-x:auto;line-height:normal;font-family:Menlo,'DejaVu Sans Mono',consolas,'Courier New',monospace\"><span style=\"color: #808000; text-decoration-color: #808000\">⚠</span> Se utilizará el siguiente archivo <span style=\"color: #008000; text-decoration-color: #008000; font-weight: bold\">BeiRNA_JoinedAnnotations.tsv</span>\n",
       "</pre>\n"
      ],
      "text/plain": [
       "\u001b[33m⚠\u001b[0m Se utilizará el siguiente archivo \u001b[1;32mBeiRNA_JoinedAnnotations.tsv\u001b[0m\n"
      ]
     },
     "metadata": {},
     "output_type": "display_data"
    },
    {
     "data": {
      "text/html": [
       "<pre style=\"white-space:pre;overflow-x:auto;line-height:normal;font-family:Menlo,'DejaVu Sans Mono',consolas,'Courier New',monospace\"><span style=\"color: #808000; text-decoration-color: #808000\">⚠</span> Se ha detectado el separador: <span style=\"color: #808000; text-decoration-color: #808000; font-weight: bold\">'\\t'</span>\n",
       "</pre>\n"
      ],
      "text/plain": [
       "\u001b[33m⚠\u001b[0m Se ha detectado el separador: \u001b[1;33m'\\t'\u001b[0m\n"
      ]
     },
     "metadata": {},
     "output_type": "display_data"
    },
    {
     "data": {
      "text/html": [
       "<pre style=\"white-space:pre;overflow-x:auto;line-height:normal;font-family:Menlo,'DejaVu Sans Mono',consolas,'Courier New',monospace\"><span style=\"color: #808000; text-decoration-color: #808000\">⚠</span> Se utilizará el siguiente archivo <span style=\"color: #008000; text-decoration-color: #008000; font-weight: bold\">countsfilteredBeiRNA_BagBrown_vs_countsfilteredBeiRNA_SeaWater.txt</span>\n",
       "</pre>\n"
      ],
      "text/plain": [
       "\u001b[33m⚠\u001b[0m Se utilizará el siguiente archivo \u001b[1;32mcountsfilteredBeiRNA_BagBrown_vs_countsfilteredBeiRNA_SeaWater.txt\u001b[0m\n"
      ]
     },
     "metadata": {},
     "output_type": "display_data"
    },
    {
     "data": {
      "text/html": [
       "<pre style=\"white-space:pre;overflow-x:auto;line-height:normal;font-family:Menlo,'DejaVu Sans Mono',consolas,'Courier New',monospace\"><span style=\"color: #808000; text-decoration-color: #808000\">⚠</span> Se ha detectado el separador: <span style=\"color: #808000; text-decoration-color: #808000; font-weight: bold\">'\\t'</span>\n",
       "</pre>\n"
      ],
      "text/plain": [
       "\u001b[33m⚠\u001b[0m Se ha detectado el separador: \u001b[1;33m'\\t'\u001b[0m\n"
      ]
     },
     "metadata": {},
     "output_type": "display_data"
    },
    {
     "data": {
      "text/html": [
       "<pre style=\"white-space:pre;overflow-x:auto;line-height:normal;font-family:Menlo,'DejaVu Sans Mono',consolas,'Courier New',monospace\">shape: <span style=\"font-weight: bold\">(</span>106_108, <span style=\"color: #008080; text-decoration-color: #008080; font-weight: bold\">35</span><span style=\"font-weight: bold\">)</span>\n",
       "┌─────────────┬─────────────┬────────┬────────────┬───┬────────────┬────────────┬─────────┬────────┐\n",
       "│ ORF ID      ┆ Gene name   ┆ Gene   ┆ ORF length ┆ … ┆ <span style=\"color: #800080; text-decoration-color: #800080; font-weight: bold\">GO</span><span style=\"font-weight: bold\">(</span>C<span style=\"font-weight: bold\">)</span>NAME  ┆ KEYWORD    ┆ PATHWAY ┆ GOSLIM │\n",
       "│ ---         ┆ ---         ┆ length ┆ ---        ┆   ┆ ---        ┆ ---        ┆ ---     ┆ ---    │\n",
       "│ str         ┆ str         ┆ ---    ┆ i64        ┆   ┆ str        ┆ str        ┆ str     ┆ str    │\n",
       "│             ┆             ┆ i64    ┆            ┆   ┆            ┆            ┆         ┆        │\n",
       "╞═════════════╪═════════════╪════════╪════════════╪═══╪════════════╪════════════╪═════════╪════════╡\n",
       "│ TRINITY_DN1 ┆ TRINITY_DN1 ┆ <span style=\"color: #008080; text-decoration-color: #008080; font-weight: bold\">5791</span>   ┆ <span style=\"color: #008080; text-decoration-color: #008080; font-weight: bold\">653</span>        ┆ … ┆ null       ┆ null       ┆ null    ┆ null   │\n",
       "│ 630_c0_g1_i ┆ 630_c0_g1_i ┆        ┆            ┆   ┆            ┆            ┆         ┆        │\n",
       "│ <span style=\"color: #008080; text-decoration-color: #008080; font-weight: bold\">4.</span>p1        ┆ <span style=\"color: #008080; text-decoration-color: #008080; font-weight: bold\">4</span>           ┆        ┆            ┆   ┆            ┆            ┆         ┆        │\n",
       "│ TRINITY_DN2 ┆ TRINITY_DN2 ┆ <span style=\"color: #008080; text-decoration-color: #008080; font-weight: bold\">1529</span>   ┆ <span style=\"color: #008080; text-decoration-color: #008080; font-weight: bold\">474</span>        ┆ … ┆ null       ┆ null       ┆ null    ┆ null   │\n",
       "│ 7258_c0_g1_ ┆ 7258_c0_g1_ ┆        ┆            ┆   ┆            ┆            ┆         ┆        │\n",
       "│ i5.p1       ┆ i5          ┆        ┆            ┆   ┆            ┆            ┆         ┆        │\n",
       "│ TRINITY_DN2 ┆ TRINITY_DN2 ┆ <span style=\"color: #008080; text-decoration-color: #008080; font-weight: bold\">673</span>    ┆ <span style=\"color: #008080; text-decoration-color: #008080; font-weight: bold\">129</span>        ┆ … ┆ null       ┆ null       ┆ null    ┆ null   │\n",
       "│ 10276_c0_g1 ┆ 10276_c0_g1 ┆        ┆            ┆   ┆            ┆            ┆         ┆        │\n",
       "│ _i1.p1      ┆ _i1         ┆        ┆            ┆   ┆            ┆            ┆         ┆        │\n",
       "│ TRINITY_DN2 ┆ TRINITY_DN2 ┆ <span style=\"color: #008080; text-decoration-color: #008080; font-weight: bold\">868</span>    ┆ <span style=\"color: #008080; text-decoration-color: #008080; font-weight: bold\">289</span>        ┆ … ┆ cytosol;<span style=\"color: #008080; text-decoration-color: #008080; font-weight: bold\">6</span>- ┆ ATP-bindin ┆ null    ┆ null   │\n",
       "│ 3399_c0_g1_ ┆ 3399_c0_g1_ ┆        ┆            ┆   ┆ phosphofru ┆ g;Hydrolas ┆         ┆        │\n",
       "│ i5.p1       ┆ i5          ┆        ┆            ┆   ┆ cto-<span style=\"color: #008080; text-decoration-color: #008080; font-weight: bold\">2</span>-kina ┆ e;Kinase;N ┆         ┆        │\n",
       "│             ┆             ┆        ┆            ┆   ┆ …          ┆ …          ┆         ┆        │\n",
       "│ TRINITY_DN2 ┆ TRINITY_DN2 ┆ <span style=\"color: #008080; text-decoration-color: #008080; font-weight: bold\">1625</span>   ┆ <span style=\"color: #008080; text-decoration-color: #008080; font-weight: bold\">397</span>        ┆ … ┆ null       ┆ null       ┆ null    ┆ null   │\n",
       "│ 814_c0_g1_i ┆ 814_c0_g1_i ┆        ┆            ┆   ┆            ┆            ┆         ┆        │\n",
       "│ <span style=\"color: #008080; text-decoration-color: #008080; font-weight: bold\">12.</span>p1       ┆ <span style=\"color: #008080; text-decoration-color: #008080; font-weight: bold\">12</span>          ┆        ┆            ┆   ┆            ┆            ┆         ┆        │\n",
       "│ …           ┆ …           ┆ …      ┆ …          ┆ … ┆ …          ┆ …          ┆ …       ┆ …      │\n",
       "│ TRINITY_DN6 ┆ TRINITY_DN6 ┆ <span style=\"color: #008080; text-decoration-color: #008080; font-weight: bold\">2448</span>   ┆ <span style=\"color: #008080; text-decoration-color: #008080; font-weight: bold\">320</span>        ┆ … ┆ null       ┆ null       ┆ null    ┆ null   │\n",
       "│ 750_c1_g1_i ┆ 750_c1_g1_i ┆        ┆            ┆   ┆            ┆            ┆         ┆        │\n",
       "│ <span style=\"color: #008080; text-decoration-color: #008080; font-weight: bold\">6.</span>p1        ┆ <span style=\"color: #008080; text-decoration-color: #008080; font-weight: bold\">6</span>           ┆        ┆            ┆   ┆            ┆            ┆         ┆        │\n",
       "│ TRINITY_DN6 ┆ TRINITY_DN6 ┆ <span style=\"color: #008080; text-decoration-color: #008080; font-weight: bold\">2447</span>   ┆ <span style=\"color: #008080; text-decoration-color: #008080; font-weight: bold\">320</span>        ┆ … ┆ null       ┆ null       ┆ null    ┆ null   │\n",
       "│ 750_c1_g1_i ┆ 750_c1_g1_i ┆        ┆            ┆   ┆            ┆            ┆         ┆        │\n",
       "│ <span style=\"color: #008080; text-decoration-color: #008080; font-weight: bold\">5.</span>p1        ┆ <span style=\"color: #008080; text-decoration-color: #008080; font-weight: bold\">5</span>           ┆        ┆            ┆   ┆            ┆            ┆         ┆        │\n",
       "│ TRINITY_DN8 ┆ TRINITY_DN8 ┆ <span style=\"color: #008080; text-decoration-color: #008080; font-weight: bold\">2089</span>   ┆ <span style=\"color: #008080; text-decoration-color: #008080; font-weight: bold\">136</span>        ┆ … ┆ null       ┆ null       ┆ null    ┆ null   │\n",
       "│ 75_c0_g1_i1 ┆ 75_c0_g1_i1 ┆        ┆            ┆   ┆            ┆            ┆         ┆        │\n",
       "│ <span style=\"color: #008080; text-decoration-color: #008080; font-weight: bold\">3.</span>p2        ┆ <span style=\"color: #008080; text-decoration-color: #008080; font-weight: bold\">3</span>           ┆        ┆            ┆   ┆            ┆            ┆         ┆        │\n",
       "│ TRINITY_DN8 ┆ TRINITY_DN8 ┆ <span style=\"color: #008080; text-decoration-color: #008080; font-weight: bold\">1059</span>   ┆ <span style=\"color: #008080; text-decoration-color: #008080; font-weight: bold\">172</span>        ┆ … ┆ cytoplasm; ┆ Cytoplasm; ┆ null    ┆ null   │\n",
       "│ 8626_c0_g1_ ┆ 8626_c0_g1_ ┆        ┆            ┆   ┆ polysome;c ┆ Protein    ┆         ┆        │\n",
       "│ i1.p1       ┆ i1          ┆        ┆            ┆   ┆ ytoplasmic ┆ biosynthes ┆         ┆        │\n",
       "│             ┆             ┆        ┆            ┆   ┆ …          ┆ is…        ┆         ┆        │\n",
       "│ TRINITY_DN1 ┆ TRINITY_DN1 ┆ <span style=\"color: #008080; text-decoration-color: #008080; font-weight: bold\">508</span>    ┆ <span style=\"color: #008080; text-decoration-color: #008080; font-weight: bold\">169</span>        ┆ … ┆ null       ┆ null       ┆ null    ┆ null   │\n",
       "│ 65207_c0_g1 ┆ 65207_c0_g1 ┆        ┆            ┆   ┆            ┆            ┆         ┆        │\n",
       "│ _i1.p1      ┆ _i1         ┆        ┆            ┆   ┆            ┆            ┆         ┆        │\n",
       "└─────────────┴─────────────┴────────┴────────────┴───┴────────────┴────────────┴─────────┴────────┘\n",
       "</pre>\n"
      ],
      "text/plain": [
       "shape: \u001b[1m(\u001b[0m106_108, \u001b[1;36m35\u001b[0m\u001b[1m)\u001b[0m\n",
       "┌─────────────┬─────────────┬────────┬────────────┬───┬────────────┬────────────┬─────────┬────────┐\n",
       "│ ORF ID      ┆ Gene name   ┆ Gene   ┆ ORF length ┆ … ┆ \u001b[1;35mGO\u001b[0m\u001b[1m(\u001b[0mC\u001b[1m)\u001b[0mNAME  ┆ KEYWORD    ┆ PATHWAY ┆ GOSLIM │\n",
       "│ ---         ┆ ---         ┆ length ┆ ---        ┆   ┆ ---        ┆ ---        ┆ ---     ┆ ---    │\n",
       "│ str         ┆ str         ┆ ---    ┆ i64        ┆   ┆ str        ┆ str        ┆ str     ┆ str    │\n",
       "│             ┆             ┆ i64    ┆            ┆   ┆            ┆            ┆         ┆        │\n",
       "╞═════════════╪═════════════╪════════╪════════════╪═══╪════════════╪════════════╪═════════╪════════╡\n",
       "│ TRINITY_DN1 ┆ TRINITY_DN1 ┆ \u001b[1;36m5791\u001b[0m   ┆ \u001b[1;36m653\u001b[0m        ┆ … ┆ null       ┆ null       ┆ null    ┆ null   │\n",
       "│ 630_c0_g1_i ┆ 630_c0_g1_i ┆        ┆            ┆   ┆            ┆            ┆         ┆        │\n",
       "│ \u001b[1;36m4.\u001b[0mp1        ┆ \u001b[1;36m4\u001b[0m           ┆        ┆            ┆   ┆            ┆            ┆         ┆        │\n",
       "│ TRINITY_DN2 ┆ TRINITY_DN2 ┆ \u001b[1;36m1529\u001b[0m   ┆ \u001b[1;36m474\u001b[0m        ┆ … ┆ null       ┆ null       ┆ null    ┆ null   │\n",
       "│ 7258_c0_g1_ ┆ 7258_c0_g1_ ┆        ┆            ┆   ┆            ┆            ┆         ┆        │\n",
       "│ i5.p1       ┆ i5          ┆        ┆            ┆   ┆            ┆            ┆         ┆        │\n",
       "│ TRINITY_DN2 ┆ TRINITY_DN2 ┆ \u001b[1;36m673\u001b[0m    ┆ \u001b[1;36m129\u001b[0m        ┆ … ┆ null       ┆ null       ┆ null    ┆ null   │\n",
       "│ 10276_c0_g1 ┆ 10276_c0_g1 ┆        ┆            ┆   ┆            ┆            ┆         ┆        │\n",
       "│ _i1.p1      ┆ _i1         ┆        ┆            ┆   ┆            ┆            ┆         ┆        │\n",
       "│ TRINITY_DN2 ┆ TRINITY_DN2 ┆ \u001b[1;36m868\u001b[0m    ┆ \u001b[1;36m289\u001b[0m        ┆ … ┆ cytosol;\u001b[1;36m6\u001b[0m- ┆ ATP-bindin ┆ null    ┆ null   │\n",
       "│ 3399_c0_g1_ ┆ 3399_c0_g1_ ┆        ┆            ┆   ┆ phosphofru ┆ g;Hydrolas ┆         ┆        │\n",
       "│ i5.p1       ┆ i5          ┆        ┆            ┆   ┆ cto-\u001b[1;36m2\u001b[0m-kina ┆ e;Kinase;N ┆         ┆        │\n",
       "│             ┆             ┆        ┆            ┆   ┆ …          ┆ …          ┆         ┆        │\n",
       "│ TRINITY_DN2 ┆ TRINITY_DN2 ┆ \u001b[1;36m1625\u001b[0m   ┆ \u001b[1;36m397\u001b[0m        ┆ … ┆ null       ┆ null       ┆ null    ┆ null   │\n",
       "│ 814_c0_g1_i ┆ 814_c0_g1_i ┆        ┆            ┆   ┆            ┆            ┆         ┆        │\n",
       "│ \u001b[1;36m12.\u001b[0mp1       ┆ \u001b[1;36m12\u001b[0m          ┆        ┆            ┆   ┆            ┆            ┆         ┆        │\n",
       "│ …           ┆ …           ┆ …      ┆ …          ┆ … ┆ …          ┆ …          ┆ …       ┆ …      │\n",
       "│ TRINITY_DN6 ┆ TRINITY_DN6 ┆ \u001b[1;36m2448\u001b[0m   ┆ \u001b[1;36m320\u001b[0m        ┆ … ┆ null       ┆ null       ┆ null    ┆ null   │\n",
       "│ 750_c1_g1_i ┆ 750_c1_g1_i ┆        ┆            ┆   ┆            ┆            ┆         ┆        │\n",
       "│ \u001b[1;36m6.\u001b[0mp1        ┆ \u001b[1;36m6\u001b[0m           ┆        ┆            ┆   ┆            ┆            ┆         ┆        │\n",
       "│ TRINITY_DN6 ┆ TRINITY_DN6 ┆ \u001b[1;36m2447\u001b[0m   ┆ \u001b[1;36m320\u001b[0m        ┆ … ┆ null       ┆ null       ┆ null    ┆ null   │\n",
       "│ 750_c1_g1_i ┆ 750_c1_g1_i ┆        ┆            ┆   ┆            ┆            ┆         ┆        │\n",
       "│ \u001b[1;36m5.\u001b[0mp1        ┆ \u001b[1;36m5\u001b[0m           ┆        ┆            ┆   ┆            ┆            ┆         ┆        │\n",
       "│ TRINITY_DN8 ┆ TRINITY_DN8 ┆ \u001b[1;36m2089\u001b[0m   ┆ \u001b[1;36m136\u001b[0m        ┆ … ┆ null       ┆ null       ┆ null    ┆ null   │\n",
       "│ 75_c0_g1_i1 ┆ 75_c0_g1_i1 ┆        ┆            ┆   ┆            ┆            ┆         ┆        │\n",
       "│ \u001b[1;36m3.\u001b[0mp2        ┆ \u001b[1;36m3\u001b[0m           ┆        ┆            ┆   ┆            ┆            ┆         ┆        │\n",
       "│ TRINITY_DN8 ┆ TRINITY_DN8 ┆ \u001b[1;36m1059\u001b[0m   ┆ \u001b[1;36m172\u001b[0m        ┆ … ┆ cytoplasm; ┆ Cytoplasm; ┆ null    ┆ null   │\n",
       "│ 8626_c0_g1_ ┆ 8626_c0_g1_ ┆        ┆            ┆   ┆ polysome;c ┆ Protein    ┆         ┆        │\n",
       "│ i1.p1       ┆ i1          ┆        ┆            ┆   ┆ ytoplasmic ┆ biosynthes ┆         ┆        │\n",
       "│             ┆             ┆        ┆            ┆   ┆ …          ┆ is…        ┆         ┆        │\n",
       "│ TRINITY_DN1 ┆ TRINITY_DN1 ┆ \u001b[1;36m508\u001b[0m    ┆ \u001b[1;36m169\u001b[0m        ┆ … ┆ null       ┆ null       ┆ null    ┆ null   │\n",
       "│ 65207_c0_g1 ┆ 65207_c0_g1 ┆        ┆            ┆   ┆            ┆            ┆         ┆        │\n",
       "│ _i1.p1      ┆ _i1         ┆        ┆            ┆   ┆            ┆            ┆         ┆        │\n",
       "└─────────────┴─────────────┴────────┴────────────┴───┴────────────┴────────────┴─────────┴────────┘\n"
      ]
     },
     "metadata": {},
     "output_type": "display_data"
    },
    {
     "data": {
      "text/html": [
       "<pre style=\"white-space:pre;overflow-x:auto;line-height:normal;font-family:Menlo,'DejaVu Sans Mono',consolas,'Courier New',monospace\">shape: <span style=\"font-weight: bold\">(</span>5_837, <span style=\"color: #008080; text-decoration-color: #008080; font-weight: bold\">6</span><span style=\"font-weight: bold\">)</span>\n",
       "┌─────────────────────┬────────────────────┬────────────────────┬───────────┬──────────┬───────────┐\n",
       "│                     ┆ countsfilteredBeiR ┆ countsfilteredBeiR ┆ theta     ┆ prob     ┆ log2FC    │\n",
       "│ ---                 ┆ NA_BagBrown_…      ┆ NA_SeaWater_…      ┆ ---       ┆ ---      ┆ ---       │\n",
       "│ str                 ┆ ---                ┆ ---                ┆ f64       ┆ f64      ┆ f64       │\n",
       "│                     ┆ f64                ┆ f64                ┆           ┆          ┆           │\n",
       "╞═════════════════════╪════════════════════╪════════════════════╪═══════════╪══════════╪═══════════╡\n",
       "│ TRINITY_DN10364_c0_ ┆ <span style=\"color: #008080; text-decoration-color: #008080; font-weight: bold\">0.498321</span>           ┆ <span style=\"color: #008080; text-decoration-color: #008080; font-weight: bold\">48.792695</span>          ┆ <span style=\"color: #008080; text-decoration-color: #008080; font-weight: bold\">-1.972309</span> ┆ <span style=\"color: #008080; text-decoration-color: #008080; font-weight: bold\">1.0</span>      ┆ <span style=\"color: #008080; text-decoration-color: #008080; font-weight: bold\">-6.613447</span> │\n",
       "│ g1~~TRINITY…        ┆                    ┆                    ┆           ┆          ┆           │\n",
       "│ TRINITY_DN11499_c0_ ┆ <span style=\"color: #008080; text-decoration-color: #008080; font-weight: bold\">3.606968</span>           ┆ <span style=\"color: #008080; text-decoration-color: #008080; font-weight: bold\">909.146477</span>         ┆ <span style=\"color: #008080; text-decoration-color: #008080; font-weight: bold\">-2.232298</span> ┆ <span style=\"color: #008080; text-decoration-color: #008080; font-weight: bold\">1.0</span>      ┆ <span style=\"color: #008080; text-decoration-color: #008080; font-weight: bold\">-7.977582</span> │\n",
       "│ g1~~TRINITY…        ┆                    ┆                    ┆           ┆          ┆           │\n",
       "│ TRINITY_DN12035_c60 ┆ <span style=\"color: #008080; text-decoration-color: #008080; font-weight: bold\">492.616367</span>         ┆ <span style=\"color: #008080; text-decoration-color: #008080; font-weight: bold\">0.510999</span>           ┆ <span style=\"color: #008080; text-decoration-color: #008080; font-weight: bold\">3.823713</span>  ┆ <span style=\"color: #008080; text-decoration-color: #008080; font-weight: bold\">1.0</span>      ┆ <span style=\"color: #008080; text-decoration-color: #008080; font-weight: bold\">9.912928</span>  │\n",
       "│ _g1~~TRINIT…        ┆                    ┆                    ┆           ┆          ┆           │\n",
       "│ TRINITY_DN1212_c0_g ┆ <span style=\"color: #008080; text-decoration-color: #008080; font-weight: bold\">103.222961</span>         ┆ <span style=\"color: #008080; text-decoration-color: #008080; font-weight: bold\">51.28329</span>           ┆ <span style=\"color: #008080; text-decoration-color: #008080; font-weight: bold\">2.352558</span>  ┆ <span style=\"color: #008080; text-decoration-color: #008080; font-weight: bold\">1.0</span>      ┆ <span style=\"color: #008080; text-decoration-color: #008080; font-weight: bold\">1.009203</span>  │\n",
       "│ <span style=\"color: #008080; text-decoration-color: #008080; font-weight: bold\">1</span>~~TRINITY_…        ┆                    ┆                    ┆           ┆          ┆           │\n",
       "│ TRINITY_DN133801_c5 ┆ <span style=\"color: #008080; text-decoration-color: #008080; font-weight: bold\">143.21022</span>          ┆ <span style=\"color: #008080; text-decoration-color: #008080; font-weight: bold\">0.803017</span>           ┆ <span style=\"color: #008080; text-decoration-color: #008080; font-weight: bold\">2.169094</span>  ┆ <span style=\"color: #008080; text-decoration-color: #008080; font-weight: bold\">1.0</span>      ┆ <span style=\"color: #008080; text-decoration-color: #008080; font-weight: bold\">7.478488</span>  │\n",
       "│ _g1~~TRINIT…        ┆                    ┆                    ┆           ┆          ┆           │\n",
       "│ …                   ┆ …                  ┆ …                  ┆ …         ┆ …        ┆ …         │\n",
       "│ TRINITY_DN18600_c0_ ┆ <span style=\"color: #008080; text-decoration-color: #008080; font-weight: bold\">1.363475</span>           ┆ <span style=\"color: #008080; text-decoration-color: #008080; font-weight: bold\">2.794916</span>           ┆ <span style=\"color: #008080; text-decoration-color: #008080; font-weight: bold\">-0.452508</span> ┆ <span style=\"color: #008080; text-decoration-color: #008080; font-weight: bold\">0.950005</span> ┆ <span style=\"color: #008080; text-decoration-color: #008080; font-weight: bold\">-1.035517</span> │\n",
       "│ g1~~TRINITY…        ┆                    ┆                    ┆           ┆          ┆           │\n",
       "│ TRINITY_DN2460_c0_g ┆ <span style=\"color: #008080; text-decoration-color: #008080; font-weight: bold\">0.30279</span>            ┆ <span style=\"color: #008080; text-decoration-color: #008080; font-weight: bold\">0.645784</span>           ┆ <span style=\"color: #008080; text-decoration-color: #008080; font-weight: bold\">-0.452295</span> ┆ <span style=\"color: #008080; text-decoration-color: #008080; font-weight: bold\">0.950003</span> ┆ <span style=\"color: #008080; text-decoration-color: #008080; font-weight: bold\">-1.092732</span> │\n",
       "│ <span style=\"color: #008080; text-decoration-color: #008080; font-weight: bold\">1</span>~~TRINITY_…        ┆                    ┆                    ┆           ┆          ┆           │\n",
       "│ TRINITY_DN1743_c0_g ┆ <span style=\"color: #008080; text-decoration-color: #008080; font-weight: bold\">0.702961</span>           ┆ <span style=\"color: #008080; text-decoration-color: #008080; font-weight: bold\">1.526757</span>           ┆ <span style=\"color: #008080; text-decoration-color: #008080; font-weight: bold\">-0.452204</span> ┆ <span style=\"color: #008080; text-decoration-color: #008080; font-weight: bold\">0.950002</span> ┆ <span style=\"color: #008080; text-decoration-color: #008080; font-weight: bold\">-1.118954</span> │\n",
       "│ <span style=\"color: #008080; text-decoration-color: #008080; font-weight: bold\">1</span>~~TRINITY_…        ┆                    ┆                    ┆           ┆          ┆           │\n",
       "│ TRINITY_DN64467_c1_ ┆ <span style=\"color: #008080; text-decoration-color: #008080; font-weight: bold\">126.185108</span>         ┆ <span style=\"color: #008080; text-decoration-color: #008080; font-weight: bold\">179.536743</span>         ┆ <span style=\"color: #008080; text-decoration-color: #008080; font-weight: bold\">-0.452157</span> ┆ <span style=\"color: #008080; text-decoration-color: #008080; font-weight: bold\">0.950002</span> ┆ <span style=\"color: #008080; text-decoration-color: #008080; font-weight: bold\">-0.508737</span> │\n",
       "│ g1~~TRINITY…        ┆                    ┆                    ┆           ┆          ┆           │\n",
       "│ TRINITY_DN4033_c0_g ┆ <span style=\"color: #008080; text-decoration-color: #008080; font-weight: bold\">55.717324</span>          ┆ <span style=\"color: #008080; text-decoration-color: #008080; font-weight: bold\">69.302335</span>          ┆ <span style=\"color: #008080; text-decoration-color: #008080; font-weight: bold\">-0.453686</span> ┆ <span style=\"color: #008080; text-decoration-color: #008080; font-weight: bold\">0.950001</span> ┆ <span style=\"color: #008080; text-decoration-color: #008080; font-weight: bold\">-0.314778</span> │\n",
       "│ <span style=\"color: #008080; text-decoration-color: #008080; font-weight: bold\">1</span>~~TRINITY_…        ┆                    ┆                    ┆           ┆          ┆           │\n",
       "└─────────────────────┴────────────────────┴────────────────────┴───────────┴──────────┴───────────┘\n",
       "</pre>\n"
      ],
      "text/plain": [
       "shape: \u001b[1m(\u001b[0m5_837, \u001b[1;36m6\u001b[0m\u001b[1m)\u001b[0m\n",
       "┌─────────────────────┬────────────────────┬────────────────────┬───────────┬──────────┬───────────┐\n",
       "│                     ┆ countsfilteredBeiR ┆ countsfilteredBeiR ┆ theta     ┆ prob     ┆ log2FC    │\n",
       "│ ---                 ┆ NA_BagBrown_…      ┆ NA_SeaWater_…      ┆ ---       ┆ ---      ┆ ---       │\n",
       "│ str                 ┆ ---                ┆ ---                ┆ f64       ┆ f64      ┆ f64       │\n",
       "│                     ┆ f64                ┆ f64                ┆           ┆          ┆           │\n",
       "╞═════════════════════╪════════════════════╪════════════════════╪═══════════╪══════════╪═══════════╡\n",
       "│ TRINITY_DN10364_c0_ ┆ \u001b[1;36m0.498321\u001b[0m           ┆ \u001b[1;36m48.792695\u001b[0m          ┆ \u001b[1;36m-1.972309\u001b[0m ┆ \u001b[1;36m1.0\u001b[0m      ┆ \u001b[1;36m-6.613447\u001b[0m │\n",
       "│ g1~~TRINITY…        ┆                    ┆                    ┆           ┆          ┆           │\n",
       "│ TRINITY_DN11499_c0_ ┆ \u001b[1;36m3.606968\u001b[0m           ┆ \u001b[1;36m909.146477\u001b[0m         ┆ \u001b[1;36m-2.232298\u001b[0m ┆ \u001b[1;36m1.0\u001b[0m      ┆ \u001b[1;36m-7.977582\u001b[0m │\n",
       "│ g1~~TRINITY…        ┆                    ┆                    ┆           ┆          ┆           │\n",
       "│ TRINITY_DN12035_c60 ┆ \u001b[1;36m492.616367\u001b[0m         ┆ \u001b[1;36m0.510999\u001b[0m           ┆ \u001b[1;36m3.823713\u001b[0m  ┆ \u001b[1;36m1.0\u001b[0m      ┆ \u001b[1;36m9.912928\u001b[0m  │\n",
       "│ _g1~~TRINIT…        ┆                    ┆                    ┆           ┆          ┆           │\n",
       "│ TRINITY_DN1212_c0_g ┆ \u001b[1;36m103.222961\u001b[0m         ┆ \u001b[1;36m51.28329\u001b[0m           ┆ \u001b[1;36m2.352558\u001b[0m  ┆ \u001b[1;36m1.0\u001b[0m      ┆ \u001b[1;36m1.009203\u001b[0m  │\n",
       "│ \u001b[1;36m1\u001b[0m~~TRINITY_…        ┆                    ┆                    ┆           ┆          ┆           │\n",
       "│ TRINITY_DN133801_c5 ┆ \u001b[1;36m143.21022\u001b[0m          ┆ \u001b[1;36m0.803017\u001b[0m           ┆ \u001b[1;36m2.169094\u001b[0m  ┆ \u001b[1;36m1.0\u001b[0m      ┆ \u001b[1;36m7.478488\u001b[0m  │\n",
       "│ _g1~~TRINIT…        ┆                    ┆                    ┆           ┆          ┆           │\n",
       "│ …                   ┆ …                  ┆ …                  ┆ …         ┆ …        ┆ …         │\n",
       "│ TRINITY_DN18600_c0_ ┆ \u001b[1;36m1.363475\u001b[0m           ┆ \u001b[1;36m2.794916\u001b[0m           ┆ \u001b[1;36m-0.452508\u001b[0m ┆ \u001b[1;36m0.950005\u001b[0m ┆ \u001b[1;36m-1.035517\u001b[0m │\n",
       "│ g1~~TRINITY…        ┆                    ┆                    ┆           ┆          ┆           │\n",
       "│ TRINITY_DN2460_c0_g ┆ \u001b[1;36m0.30279\u001b[0m            ┆ \u001b[1;36m0.645784\u001b[0m           ┆ \u001b[1;36m-0.452295\u001b[0m ┆ \u001b[1;36m0.950003\u001b[0m ┆ \u001b[1;36m-1.092732\u001b[0m │\n",
       "│ \u001b[1;36m1\u001b[0m~~TRINITY_…        ┆                    ┆                    ┆           ┆          ┆           │\n",
       "│ TRINITY_DN1743_c0_g ┆ \u001b[1;36m0.702961\u001b[0m           ┆ \u001b[1;36m1.526757\u001b[0m           ┆ \u001b[1;36m-0.452204\u001b[0m ┆ \u001b[1;36m0.950002\u001b[0m ┆ \u001b[1;36m-1.118954\u001b[0m │\n",
       "│ \u001b[1;36m1\u001b[0m~~TRINITY_…        ┆                    ┆                    ┆           ┆          ┆           │\n",
       "│ TRINITY_DN64467_c1_ ┆ \u001b[1;36m126.185108\u001b[0m         ┆ \u001b[1;36m179.536743\u001b[0m         ┆ \u001b[1;36m-0.452157\u001b[0m ┆ \u001b[1;36m0.950002\u001b[0m ┆ \u001b[1;36m-0.508737\u001b[0m │\n",
       "│ g1~~TRINITY…        ┆                    ┆                    ┆           ┆          ┆           │\n",
       "│ TRINITY_DN4033_c0_g ┆ \u001b[1;36m55.717324\u001b[0m          ┆ \u001b[1;36m69.302335\u001b[0m          ┆ \u001b[1;36m-0.453686\u001b[0m ┆ \u001b[1;36m0.950001\u001b[0m ┆ \u001b[1;36m-0.314778\u001b[0m │\n",
       "│ \u001b[1;36m1\u001b[0m~~TRINITY_…        ┆                    ┆                    ┆           ┆          ┆           │\n",
       "└─────────────────────┴────────────────────┴────────────────────┴───────────┴──────────┴───────────┘\n"
      ]
     },
     "metadata": {},
     "output_type": "display_data"
    }
   ],
   "source": [
    "df_annotations=get_df(r\"merge_tables\\BeiRNA\\BeiRNA_JoinedAnnotations.tsv\")\n",
    "df_counts=get_df(r\"merge_tables\\BeiRNA\\countsfilteredBeiRNA_BagBrown_vs_countsfilteredBeiRNA_SeaWater.txt\")\n",
    "\n",
    "print(df_annotations)\n",
    "print(df_counts)\n",
    "\n"
   ]
  },
  {
   "cell_type": "markdown",
   "id": "b3abc87b",
   "metadata": {},
   "source": [
    "## Validar la tabla de annotations \n",
    " En este caso tengo que ver si la tabla tiene 15 o 35 columnas, si tiene solo 15 devuelve un df con estas tres X.ID\", \"GENENAME\", \"DESCRIPTION\". Si la tabla tiene 35 se quedas solo con estas 12 (\"ORF.ID\", \"Gene.name\", \"Gene.length\", \"ORF.length\", \"ORF.start\",\n",
    "  \"ORF.end\", \"Strand\", \"Protein.sequence\", \"Pfam\", \"InterPro\",\n",
    "  \"GENENAME\", \"DESCRIPTION\").\n",
    "\n",
    "Si tiene cualquier otro número de columnas lanzar un error e indicar que hay que usar una con 15 o 35"
   ]
  },
  {
   "cell_type": "code",
   "execution_count": 157,
   "id": "1a7b5a10",
   "metadata": {},
   "outputs": [],
   "source": [
    "def validate_annotation_table(df, df_name = \"df_annotations\"):\n",
    "    if df.width == 15:\n",
    "        header = [\"X ID\", \"GENENAME\", \"DESCRIPTION\"]\n",
    "        missing_columns = []\n",
    "\n",
    "        console.print(f\"El DataFrame {\"df\"} contiene [bold green]15[/] columnas.\")\n",
    "\n",
    "        for column in header:\n",
    "            if column not in df.columns:\n",
    "                missing_columns.append(column)    \n",
    "\n",
    "        if len(missing_columns)!= 0:\n",
    "            console.print(f\"[bold red]:x:[/] La(s) columna(s) [italic purple]{missing_columns}[/] no está(n) presente(s) en el DataFrame {\"df\"}.\")\n",
    "\n",
    "        else:        \n",
    "            console.print(f\"[bold yellow]:warning: Se seleccionarán las siguientes columnas del DataFrame: [italic green]{header}[/]\")\n",
    "            return df.select([pl.col(\"X ID\").alias(\"ID\"),\n",
    "                               \"GENENAME\",\n",
    "                                 \"DESCRIPTION\"])\n",
    "\n",
    "    elif df.width == 35:\n",
    "        header = [\"ORF ID\", \"Gene name\", \"Gene length\", \"ORF length\", \"ORF start\", \"ORF end\", \n",
    "                  \"Strand\", \"Protein sequence\", \"Pfam\", \"InterPro\", \"GENENAME\", \"DESCRIPTION\"]\n",
    "        missing_columns = []\n",
    "\n",
    "        console.print(f\"El DataFrame {df_name}contiene [bold green]35[/] columnas.\")\n",
    "\n",
    "        for column in header:\n",
    "            if column not in df.columns:\n",
    "                missing_columns.append(column)    \n",
    "\n",
    "        if len(missing_columns)!= 0:\n",
    "            console.print(f\"[bold red]:x:[/] La(s) columna(s) [italic purple]{missing_columns}[/] no está(n) presente(s) en el DataFrame {\"df\"}.\")\n",
    "\n",
    "        else:        \n",
    "            console.print(f\"[bold yellow]:warning: Se seleccionarán las siguientes columnas del DataFrame: [italic green]{header}[/]\")\n",
    "            return df.select([pl.col(\"ORF ID\").alias(\"ID\"), \"Gene name\", \"Gene length\", \"ORF length\", \"ORF start\", \"ORF end\", \n",
    "                  \"Strand\", \"Protein sequence\", \"Pfam\", \"InterPro\", \"GENENAME\", \"DESCRIPTION\"])\n",
    "    \n",
    "    else: \n",
    "        console.print(f\"[bold red]:x:[/] DataFrame no válido. Debe contener 15 o 35 columnas.\")"
   ]
  },
  {
   "cell_type": "code",
   "execution_count": 158,
   "id": "dc9af6f2",
   "metadata": {},
   "outputs": [
    {
     "data": {
      "text/html": [
       "<pre style=\"white-space:pre;overflow-x:auto;line-height:normal;font-family:Menlo,'DejaVu Sans Mono',consolas,'Courier New',monospace\">El DataFrame df_annotationscontiene <span style=\"color: #008000; text-decoration-color: #008000; font-weight: bold\">35</span> columnas.\n",
       "</pre>\n"
      ],
      "text/plain": [
       "El DataFrame df_annotationscontiene \u001b[1;32m35\u001b[0m columnas.\n"
      ]
     },
     "metadata": {},
     "output_type": "display_data"
    },
    {
     "data": {
      "text/html": [
       "<pre style=\"white-space:pre;overflow-x:auto;line-height:normal;font-family:Menlo,'DejaVu Sans Mono',consolas,'Courier New',monospace\"><span style=\"color: #808000; text-decoration-color: #808000; font-weight: bold\">⚠ Se seleccionarán las siguientes columnas del DataFrame: </span><span style=\"color: #008000; text-decoration-color: #008000; font-weight: bold; font-style: italic\">['ORF ID', 'Gene name', 'Gene length', 'ORF length', 'ORF</span>\n",
       "<span style=\"color: #008000; text-decoration-color: #008000; font-weight: bold; font-style: italic\">start', 'ORF end', 'Strand', 'Protein sequence', 'Pfam', 'InterPro', 'GENENAME', 'DESCRIPTION']</span>\n",
       "</pre>\n"
      ],
      "text/plain": [
       "\u001b[1;33m⚠ Se seleccionarán las siguientes columnas del DataFrame: \u001b[0m\u001b[1;3;32m[\u001b[0m\u001b[1;3;32m'ORF ID'\u001b[0m\u001b[1;3;32m, \u001b[0m\u001b[1;3;32m'Gene name'\u001b[0m\u001b[1;3;32m, \u001b[0m\u001b[1;3;32m'Gene length'\u001b[0m\u001b[1;3;32m, \u001b[0m\u001b[1;3;32m'ORF length'\u001b[0m\u001b[1;3;32m, \u001b[0m\u001b[1;3;32m'ORF\u001b[0m\n",
       "\u001b[1;3;32mstart'\u001b[0m\u001b[1;3;32m, \u001b[0m\u001b[1;3;32m'ORF end'\u001b[0m\u001b[1;3;32m, \u001b[0m\u001b[1;3;32m'Strand'\u001b[0m\u001b[1;3;32m, \u001b[0m\u001b[1;3;32m'Protein sequence'\u001b[0m\u001b[1;3;32m, \u001b[0m\u001b[1;3;32m'Pfam'\u001b[0m\u001b[1;3;32m, \u001b[0m\u001b[1;3;32m'InterPro'\u001b[0m\u001b[1;3;32m, \u001b[0m\u001b[1;3;32m'GENENAME'\u001b[0m\u001b[1;3;32m, \u001b[0m\u001b[1;3;32m'DESCRIPTION'\u001b[0m\u001b[1;3;32m]\u001b[0m\n"
      ]
     },
     "metadata": {},
     "output_type": "display_data"
    },
    {
     "data": {
      "text/html": [
       "<pre style=\"white-space:pre;overflow-x:auto;line-height:normal;font-family:Menlo,'DejaVu Sans Mono',consolas,'Courier New',monospace\"><span style=\"font-weight: bold\">[</span>\n",
       "    <span style=\"color: #008000; text-decoration-color: #008000\">'ID'</span>,\n",
       "    <span style=\"color: #008000; text-decoration-color: #008000\">'Gene name'</span>,\n",
       "    <span style=\"color: #008000; text-decoration-color: #008000\">'Gene length'</span>,\n",
       "    <span style=\"color: #008000; text-decoration-color: #008000\">'ORF length'</span>,\n",
       "    <span style=\"color: #008000; text-decoration-color: #008000\">'ORF start'</span>,\n",
       "    <span style=\"color: #008000; text-decoration-color: #008000\">'ORF end'</span>,\n",
       "    <span style=\"color: #008000; text-decoration-color: #008000\">'Strand'</span>,\n",
       "    <span style=\"color: #008000; text-decoration-color: #008000\">'Protein sequence'</span>,\n",
       "    <span style=\"color: #008000; text-decoration-color: #008000\">'Pfam'</span>,\n",
       "    <span style=\"color: #008000; text-decoration-color: #008000\">'InterPro'</span>,\n",
       "    <span style=\"color: #008000; text-decoration-color: #008000\">'GENENAME'</span>,\n",
       "    <span style=\"color: #008000; text-decoration-color: #008000\">'DESCRIPTION'</span>\n",
       "<span style=\"font-weight: bold\">]</span>\n",
       "</pre>\n"
      ],
      "text/plain": [
       "\u001b[1m[\u001b[0m\n",
       "    \u001b[32m'ID'\u001b[0m,\n",
       "    \u001b[32m'Gene name'\u001b[0m,\n",
       "    \u001b[32m'Gene length'\u001b[0m,\n",
       "    \u001b[32m'ORF length'\u001b[0m,\n",
       "    \u001b[32m'ORF start'\u001b[0m,\n",
       "    \u001b[32m'ORF end'\u001b[0m,\n",
       "    \u001b[32m'Strand'\u001b[0m,\n",
       "    \u001b[32m'Protein sequence'\u001b[0m,\n",
       "    \u001b[32m'Pfam'\u001b[0m,\n",
       "    \u001b[32m'InterPro'\u001b[0m,\n",
       "    \u001b[32m'GENENAME'\u001b[0m,\n",
       "    \u001b[32m'DESCRIPTION'\u001b[0m\n",
       "\u001b[1m]\u001b[0m\n"
      ]
     },
     "metadata": {},
     "output_type": "display_data"
    },
    {
     "data": {
      "text/html": [
       "<pre style=\"white-space:pre;overflow-x:auto;line-height:normal;font-family:Menlo,'DejaVu Sans Mono',consolas,'Courier New',monospace\">shape: <span style=\"font-weight: bold\">(</span>106_108, <span style=\"color: #008080; text-decoration-color: #008080; font-weight: bold\">12</span><span style=\"font-weight: bold\">)</span>\n",
       "┌─────────────┬────────────┬────────┬────────┬───┬────────────┬────────────┬──────────┬────────────┐\n",
       "│ ID          ┆ Gene name  ┆ Gene   ┆ ORF    ┆ … ┆ Pfam       ┆ InterPro   ┆ GENENAME ┆ DESCRIPTIO │\n",
       "│ ---         ┆ ---        ┆ length ┆ length ┆   ┆ ---        ┆ ---        ┆ ---      ┆ N          │\n",
       "│ str         ┆ str        ┆ ---    ┆ ---    ┆   ┆ str        ┆ str        ┆ str      ┆ ---        │\n",
       "│             ┆            ┆ i64    ┆ i64    ┆   ┆            ┆            ┆          ┆ str        │\n",
       "╞═════════════╪════════════╪════════╪════════╪═══╪════════════╪════════════╪══════════╪════════════╡\n",
       "│ TRINITY_DN1 ┆ TRINITY_DN ┆ <span style=\"color: #008080; text-decoration-color: #008080; font-weight: bold\">5791</span>   ┆ <span style=\"color: #008080; text-decoration-color: #008080; font-weight: bold\">653</span>    ┆ … ┆ -          ┆ -          ┆ null     ┆ null       │\n",
       "│ 630_c0_g1_i ┆ 1630_c0_g1 ┆        ┆        ┆   ┆            ┆            ┆          ┆            │\n",
       "│ <span style=\"color: #008080; text-decoration-color: #008080; font-weight: bold\">4.</span>p1        ┆ _i4        ┆        ┆        ┆   ┆            ┆            ┆          ┆            │\n",
       "│ TRINITY_DN2 ┆ TRINITY_DN ┆ <span style=\"color: #008080; text-decoration-color: #008080; font-weight: bold\">1529</span>   ┆ <span style=\"color: #008080; text-decoration-color: #008080; font-weight: bold\">474</span>    ┆ … ┆ PF08205;PF ┆ IPR003987  ┆ null     ┆ null       │\n",
       "│ 7258_c0_g1_ ┆ 27258_c0_g ┆        ┆        ┆   ┆ <span style=\"color: #008080; text-decoration-color: #008080; font-weight: bold\">07679</span>;PF13 ┆ Intercellu ┆          ┆            │\n",
       "│ i5.p1       ┆ 1_i5       ┆        ┆        ┆   ┆ <span style=\"color: #008080; text-decoration-color: #008080; font-weight: bold\">927</span>;PF0392 ┆ lar        ┆          ┆            │\n",
       "│             ┆            ┆        ┆        ┆   ┆ …          ┆ adhesi…    ┆          ┆            │\n",
       "│ TRINITY_DN2 ┆ TRINITY_DN ┆ <span style=\"color: #008080; text-decoration-color: #008080; font-weight: bold\">673</span>    ┆ <span style=\"color: #008080; text-decoration-color: #008080; font-weight: bold\">129</span>    ┆ … ┆ -          ┆ -          ┆ null     ┆ null       │\n",
       "│ 10276_c0_g1 ┆ 210276_c0_ ┆        ┆        ┆   ┆            ┆            ┆          ┆            │\n",
       "│ _i1.p1      ┆ g1_i1      ┆        ┆        ┆   ┆            ┆            ┆          ┆            │\n",
       "│ TRINITY_DN2 ┆ TRINITY_DN ┆ <span style=\"color: #008080; text-decoration-color: #008080; font-weight: bold\">868</span>    ┆ <span style=\"color: #008080; text-decoration-color: #008080; font-weight: bold\">289</span>    ┆ … ┆ PF00300;PF ┆ IPR003094  ┆ null     ┆ <span style=\"color: #008080; text-decoration-color: #008080; font-weight: bold\">6</span>-phosphof │\n",
       "│ 3399_c0_g1_ ┆ 23399_c0_g ┆        ┆        ┆   ┆ <span style=\"color: #008080; text-decoration-color: #008080; font-weight: bold\">01591</span>      ┆ Fructose-<span style=\"color: #008080; text-decoration-color: #008080; font-weight: bold\">2</span> ┆          ┆ ructo-<span style=\"color: #008080; text-decoration-color: #008080; font-weight: bold\">2</span>-ki │\n",
       "│ i5.p1       ┆ 1_i5       ┆        ┆        ┆   ┆            ┆ ,<span style=\"color: #008080; text-decoration-color: #008080; font-weight: bold\">6</span>-bisphos ┆          ┆ nase       │\n",
       "│             ┆            ┆        ┆        ┆   ┆            ┆ …          ┆          ┆            │\n",
       "│ TRINITY_DN2 ┆ TRINITY_DN ┆ <span style=\"color: #008080; text-decoration-color: #008080; font-weight: bold\">1625</span>   ┆ <span style=\"color: #008080; text-decoration-color: #008080; font-weight: bold\">397</span>    ┆ … ┆ PF04427    ┆ IPR007109  ┆ null     ┆ null       │\n",
       "│ 814_c0_g1_i ┆ 2814_c0_g1 ┆        ┆        ┆   ┆            ┆ Brix domai ┆          ┆            │\n",
       "│ <span style=\"color: #008080; text-decoration-color: #008080; font-weight: bold\">12.</span>p1       ┆ _i12       ┆        ┆        ┆   ┆            ┆ n;IPR04511 ┆          ┆            │\n",
       "│             ┆            ┆        ┆        ┆   ┆            ┆ …          ┆          ┆            │\n",
       "│ …           ┆ …          ┆ …      ┆ …      ┆ … ┆ …          ┆ …          ┆ …        ┆ …          │\n",
       "│ TRINITY_DN6 ┆ TRINITY_DN ┆ <span style=\"color: #008080; text-decoration-color: #008080; font-weight: bold\">2448</span>   ┆ <span style=\"color: #008080; text-decoration-color: #008080; font-weight: bold\">320</span>    ┆ … ┆ PF00782;PF ┆ IPR020422  ┆ null     ┆ null       │\n",
       "│ 750_c1_g1_i ┆ 6750_c1_g1 ┆        ┆        ┆   ┆ <span style=\"color: #008080; text-decoration-color: #008080; font-weight: bold\">00686</span>      ┆ Dual speci ┆          ┆            │\n",
       "│ <span style=\"color: #008080; text-decoration-color: #008080; font-weight: bold\">6.</span>p1        ┆ _i6        ┆        ┆        ┆   ┆            ┆ ficity     ┆          ┆            │\n",
       "│             ┆            ┆        ┆        ┆   ┆            ┆ pro…       ┆          ┆            │\n",
       "│ TRINITY_DN6 ┆ TRINITY_DN ┆ <span style=\"color: #008080; text-decoration-color: #008080; font-weight: bold\">2447</span>   ┆ <span style=\"color: #008080; text-decoration-color: #008080; font-weight: bold\">320</span>    ┆ … ┆ PF00782;PF ┆ IPR020422  ┆ null     ┆ null       │\n",
       "│ 750_c1_g1_i ┆ 6750_c1_g1 ┆        ┆        ┆   ┆ <span style=\"color: #008080; text-decoration-color: #008080; font-weight: bold\">00686</span>      ┆ Dual speci ┆          ┆            │\n",
       "│ <span style=\"color: #008080; text-decoration-color: #008080; font-weight: bold\">5.</span>p1        ┆ _i5        ┆        ┆        ┆   ┆            ┆ ficity     ┆          ┆            │\n",
       "│             ┆            ┆        ┆        ┆   ┆            ┆ pro…       ┆          ┆            │\n",
       "│ TRINITY_DN8 ┆ TRINITY_DN ┆ <span style=\"color: #008080; text-decoration-color: #008080; font-weight: bold\">2089</span>   ┆ <span style=\"color: #008080; text-decoration-color: #008080; font-weight: bold\">136</span>    ┆ … ┆ -          ┆ IPR015943  ┆ null     ┆ null       │\n",
       "│ 75_c0_g1_i1 ┆ 875_c0_g1_ ┆        ┆        ┆   ┆            ┆ WD40/YVTN  ┆          ┆            │\n",
       "│ <span style=\"color: #008080; text-decoration-color: #008080; font-weight: bold\">3.</span>p2        ┆ i13        ┆        ┆        ┆   ┆            ┆ repeat-lik ┆          ┆            │\n",
       "│             ┆            ┆        ┆        ┆   ┆            ┆ …          ┆          ┆            │\n",
       "│ TRINITY_DN8 ┆ TRINITY_DN ┆ <span style=\"color: #008080; text-decoration-color: #008080; font-weight: bold\">1059</span>   ┆ <span style=\"color: #008080; text-decoration-color: #008080; font-weight: bold\">172</span>    ┆ … ┆ PF00076    ┆ IPR000504  ┆ epab     ┆ Cytoplasmi │\n",
       "│ 8626_c0_g1_ ┆ 88626_c0_g ┆        ┆        ┆   ┆            ┆ RNA recogn ┆          ┆ c <span style=\"color: #800080; text-decoration-color: #800080; font-weight: bold\">poly</span><span style=\"font-weight: bold\">(</span>A<span style=\"font-weight: bold\">)</span>- │\n",
       "│ i1.p1       ┆ 1_i1       ┆        ┆        ┆   ┆            ┆ ition      ┆          ┆ binding    │\n",
       "│             ┆            ┆        ┆        ┆   ┆            ┆ moti…      ┆          ┆ pr…        │\n",
       "│ TRINITY_DN1 ┆ TRINITY_DN ┆ <span style=\"color: #008080; text-decoration-color: #008080; font-weight: bold\">508</span>    ┆ <span style=\"color: #008080; text-decoration-color: #008080; font-weight: bold\">169</span>    ┆ … ┆ PF03160    ┆ IPR038081  ┆ null     ┆ null       │\n",
       "│ 65207_c0_g1 ┆ 165207_c0_ ┆        ┆        ┆   ┆            ┆ CalX-like  ┆          ┆            │\n",
       "│ _i1.p1      ┆ g1_i1      ┆        ┆        ┆   ┆            ┆ domain     ┆          ┆            │\n",
       "│             ┆            ┆        ┆        ┆   ┆            ┆ sup…       ┆          ┆            │\n",
       "└─────────────┴────────────┴────────┴────────┴───┴────────────┴────────────┴──────────┴────────────┘\n",
       "</pre>\n"
      ],
      "text/plain": [
       "shape: \u001b[1m(\u001b[0m106_108, \u001b[1;36m12\u001b[0m\u001b[1m)\u001b[0m\n",
       "┌─────────────┬────────────┬────────┬────────┬───┬────────────┬────────────┬──────────┬────────────┐\n",
       "│ ID          ┆ Gene name  ┆ Gene   ┆ ORF    ┆ … ┆ Pfam       ┆ InterPro   ┆ GENENAME ┆ DESCRIPTIO │\n",
       "│ ---         ┆ ---        ┆ length ┆ length ┆   ┆ ---        ┆ ---        ┆ ---      ┆ N          │\n",
       "│ str         ┆ str        ┆ ---    ┆ ---    ┆   ┆ str        ┆ str        ┆ str      ┆ ---        │\n",
       "│             ┆            ┆ i64    ┆ i64    ┆   ┆            ┆            ┆          ┆ str        │\n",
       "╞═════════════╪════════════╪════════╪════════╪═══╪════════════╪════════════╪══════════╪════════════╡\n",
       "│ TRINITY_DN1 ┆ TRINITY_DN ┆ \u001b[1;36m5791\u001b[0m   ┆ \u001b[1;36m653\u001b[0m    ┆ … ┆ -          ┆ -          ┆ null     ┆ null       │\n",
       "│ 630_c0_g1_i ┆ 1630_c0_g1 ┆        ┆        ┆   ┆            ┆            ┆          ┆            │\n",
       "│ \u001b[1;36m4.\u001b[0mp1        ┆ _i4        ┆        ┆        ┆   ┆            ┆            ┆          ┆            │\n",
       "│ TRINITY_DN2 ┆ TRINITY_DN ┆ \u001b[1;36m1529\u001b[0m   ┆ \u001b[1;36m474\u001b[0m    ┆ … ┆ PF08205;PF ┆ IPR003987  ┆ null     ┆ null       │\n",
       "│ 7258_c0_g1_ ┆ 27258_c0_g ┆        ┆        ┆   ┆ \u001b[1;36m07679\u001b[0m;PF13 ┆ Intercellu ┆          ┆            │\n",
       "│ i5.p1       ┆ 1_i5       ┆        ┆        ┆   ┆ \u001b[1;36m927\u001b[0m;PF0392 ┆ lar        ┆          ┆            │\n",
       "│             ┆            ┆        ┆        ┆   ┆ …          ┆ adhesi…    ┆          ┆            │\n",
       "│ TRINITY_DN2 ┆ TRINITY_DN ┆ \u001b[1;36m673\u001b[0m    ┆ \u001b[1;36m129\u001b[0m    ┆ … ┆ -          ┆ -          ┆ null     ┆ null       │\n",
       "│ 10276_c0_g1 ┆ 210276_c0_ ┆        ┆        ┆   ┆            ┆            ┆          ┆            │\n",
       "│ _i1.p1      ┆ g1_i1      ┆        ┆        ┆   ┆            ┆            ┆          ┆            │\n",
       "│ TRINITY_DN2 ┆ TRINITY_DN ┆ \u001b[1;36m868\u001b[0m    ┆ \u001b[1;36m289\u001b[0m    ┆ … ┆ PF00300;PF ┆ IPR003094  ┆ null     ┆ \u001b[1;36m6\u001b[0m-phosphof │\n",
       "│ 3399_c0_g1_ ┆ 23399_c0_g ┆        ┆        ┆   ┆ \u001b[1;36m01591\u001b[0m      ┆ Fructose-\u001b[1;36m2\u001b[0m ┆          ┆ ructo-\u001b[1;36m2\u001b[0m-ki │\n",
       "│ i5.p1       ┆ 1_i5       ┆        ┆        ┆   ┆            ┆ ,\u001b[1;36m6\u001b[0m-bisphos ┆          ┆ nase       │\n",
       "│             ┆            ┆        ┆        ┆   ┆            ┆ …          ┆          ┆            │\n",
       "│ TRINITY_DN2 ┆ TRINITY_DN ┆ \u001b[1;36m1625\u001b[0m   ┆ \u001b[1;36m397\u001b[0m    ┆ … ┆ PF04427    ┆ IPR007109  ┆ null     ┆ null       │\n",
       "│ 814_c0_g1_i ┆ 2814_c0_g1 ┆        ┆        ┆   ┆            ┆ Brix domai ┆          ┆            │\n",
       "│ \u001b[1;36m12.\u001b[0mp1       ┆ _i12       ┆        ┆        ┆   ┆            ┆ n;IPR04511 ┆          ┆            │\n",
       "│             ┆            ┆        ┆        ┆   ┆            ┆ …          ┆          ┆            │\n",
       "│ …           ┆ …          ┆ …      ┆ …      ┆ … ┆ …          ┆ …          ┆ …        ┆ …          │\n",
       "│ TRINITY_DN6 ┆ TRINITY_DN ┆ \u001b[1;36m2448\u001b[0m   ┆ \u001b[1;36m320\u001b[0m    ┆ … ┆ PF00782;PF ┆ IPR020422  ┆ null     ┆ null       │\n",
       "│ 750_c1_g1_i ┆ 6750_c1_g1 ┆        ┆        ┆   ┆ \u001b[1;36m00686\u001b[0m      ┆ Dual speci ┆          ┆            │\n",
       "│ \u001b[1;36m6.\u001b[0mp1        ┆ _i6        ┆        ┆        ┆   ┆            ┆ ficity     ┆          ┆            │\n",
       "│             ┆            ┆        ┆        ┆   ┆            ┆ pro…       ┆          ┆            │\n",
       "│ TRINITY_DN6 ┆ TRINITY_DN ┆ \u001b[1;36m2447\u001b[0m   ┆ \u001b[1;36m320\u001b[0m    ┆ … ┆ PF00782;PF ┆ IPR020422  ┆ null     ┆ null       │\n",
       "│ 750_c1_g1_i ┆ 6750_c1_g1 ┆        ┆        ┆   ┆ \u001b[1;36m00686\u001b[0m      ┆ Dual speci ┆          ┆            │\n",
       "│ \u001b[1;36m5.\u001b[0mp1        ┆ _i5        ┆        ┆        ┆   ┆            ┆ ficity     ┆          ┆            │\n",
       "│             ┆            ┆        ┆        ┆   ┆            ┆ pro…       ┆          ┆            │\n",
       "│ TRINITY_DN8 ┆ TRINITY_DN ┆ \u001b[1;36m2089\u001b[0m   ┆ \u001b[1;36m136\u001b[0m    ┆ … ┆ -          ┆ IPR015943  ┆ null     ┆ null       │\n",
       "│ 75_c0_g1_i1 ┆ 875_c0_g1_ ┆        ┆        ┆   ┆            ┆ WD40/YVTN  ┆          ┆            │\n",
       "│ \u001b[1;36m3.\u001b[0mp2        ┆ i13        ┆        ┆        ┆   ┆            ┆ repeat-lik ┆          ┆            │\n",
       "│             ┆            ┆        ┆        ┆   ┆            ┆ …          ┆          ┆            │\n",
       "│ TRINITY_DN8 ┆ TRINITY_DN ┆ \u001b[1;36m1059\u001b[0m   ┆ \u001b[1;36m172\u001b[0m    ┆ … ┆ PF00076    ┆ IPR000504  ┆ epab     ┆ Cytoplasmi │\n",
       "│ 8626_c0_g1_ ┆ 88626_c0_g ┆        ┆        ┆   ┆            ┆ RNA recogn ┆          ┆ c \u001b[1;35mpoly\u001b[0m\u001b[1m(\u001b[0mA\u001b[1m)\u001b[0m- │\n",
       "│ i1.p1       ┆ 1_i1       ┆        ┆        ┆   ┆            ┆ ition      ┆          ┆ binding    │\n",
       "│             ┆            ┆        ┆        ┆   ┆            ┆ moti…      ┆          ┆ pr…        │\n",
       "│ TRINITY_DN1 ┆ TRINITY_DN ┆ \u001b[1;36m508\u001b[0m    ┆ \u001b[1;36m169\u001b[0m    ┆ … ┆ PF03160    ┆ IPR038081  ┆ null     ┆ null       │\n",
       "│ 65207_c0_g1 ┆ 165207_c0_ ┆        ┆        ┆   ┆            ┆ CalX-like  ┆          ┆            │\n",
       "│ _i1.p1      ┆ g1_i1      ┆        ┆        ┆   ┆            ┆ domain     ┆          ┆            │\n",
       "│             ┆            ┆        ┆        ┆   ┆            ┆ sup…       ┆          ┆            │\n",
       "└─────────────┴────────────┴────────┴────────┴───┴────────────┴────────────┴──────────┴────────────┘\n"
      ]
     },
     "metadata": {},
     "output_type": "display_data"
    }
   ],
   "source": [
    "df_annotations = validate_annotation_table(df_annotations)\n",
    "print(df_annotations.columns)\n",
    "print(df_annotations)"
   ]
  },
  {
   "cell_type": "code",
   "execution_count": null,
   "id": "a6b5eabb",
   "metadata": {},
   "outputs": [],
   "source": [
    "def validate_counts_table(df, df_name = \"df_counts\"):\n",
    "    if df.width == 6:\n",
    "\n",
    "        if df.columns[0] == '':\n",
    "            df = df.rename({ '': \"old_ID\" }) #el fallo puede ser por esto?\n",
    "\n",
    "        console.print(f\"[bold yellow]:warning:[/] Se han cambiado los nombres de las columnas a: [italic green] ID, countsfiltered_ControlDMSO_mean, countsfiltered_DEHP_mean, theta, prob y log2FC[/].\")\n",
    "    \n",
    "        df = df.select([\n",
    "            pl.col(df.columns[0]).alias(\"old_ID\"),\n",
    "            pl.col(\"old_ID\").str.slice(offset = pl.col(\"old_ID\").str.find(\"~~\") + 2).alias(\"new_ID\"),\n",
    "            pl.col(df.columns[1]).alias(\"countsfiltered_ControlDMSO_mean\"),\n",
    "            pl.col(df.columns[2]).alias(\"countsfiltered_DEHP_mean\"),\n",
    "            pl.col(df.columns[3]).alias(\"theta\"),\n",
    "            pl.col(df.columns[4]).alias(\"prob\"),\n",
    "            pl.col(df.columns[5]).alias(\"log2FC\"),\n",
    "            ])\n",
    "        \n",
    "        return df\n",
    "    \n",
    "    else:\n",
    "        console.print(f\"[bold red]:x:[/] DataFrame no válido. Debe contener 6 columnas.\")\n",
    "    "
   ]
  },
  {
   "cell_type": "code",
   "execution_count": 160,
   "id": "67aac577",
   "metadata": {},
   "outputs": [
    {
     "data": {
      "text/html": [
       "<pre style=\"white-space:pre;overflow-x:auto;line-height:normal;font-family:Menlo,'DejaVu Sans Mono',consolas,'Courier New',monospace\"><span style=\"font-weight: bold\">[</span><span style=\"color: #008000; text-decoration-color: #008000\">''</span>, <span style=\"color: #008000; text-decoration-color: #008000\">'countsfilteredBeiRNA_BagBrown_mean'</span>, <span style=\"color: #008000; text-decoration-color: #008000\">'countsfilteredBeiRNA_SeaWater_mean'</span>, <span style=\"color: #008000; text-decoration-color: #008000\">'theta'</span>, <span style=\"color: #008000; text-decoration-color: #008000\">'prob'</span>, <span style=\"color: #008000; text-decoration-color: #008000\">'log2FC'</span><span style=\"font-weight: bold\">]</span>\n",
       "</pre>\n"
      ],
      "text/plain": [
       "\u001b[1m[\u001b[0m\u001b[32m''\u001b[0m, \u001b[32m'countsfilteredBeiRNA_BagBrown_mean'\u001b[0m, \u001b[32m'countsfilteredBeiRNA_SeaWater_mean'\u001b[0m, \u001b[32m'theta'\u001b[0m, \u001b[32m'prob'\u001b[0m, \u001b[32m'log2FC'\u001b[0m\u001b[1m]\u001b[0m\n"
      ]
     },
     "metadata": {},
     "output_type": "display_data"
    },
    {
     "data": {
      "text/html": [
       "<pre style=\"white-space:pre;overflow-x:auto;line-height:normal;font-family:Menlo,'DejaVu Sans Mono',consolas,'Courier New',monospace\"><span style=\"color: #808000; text-decoration-color: #808000; font-weight: bold\">⚠</span> Se han cambiado los nombres de las columnas a: <span style=\"color: #008000; text-decoration-color: #008000; font-style: italic\"> ID, countsfiltered_ControlDMSO_mean, countsfiltered_DEHP_mean, </span>\n",
       "<span style=\"color: #008000; text-decoration-color: #008000; font-style: italic\">theta, prob y log2FC</span>.\n",
       "</pre>\n"
      ],
      "text/plain": [
       "\u001b[1;33m⚠\u001b[0m Se han cambiado los nombres de las columnas a: \u001b[3;32m ID, countsfiltered_ControlDMSO_mean, countsfiltered_DEHP_mean, \u001b[0m\n",
       "\u001b[3;32mtheta, prob y log2FC\u001b[0m.\n"
      ]
     },
     "metadata": {},
     "output_type": "display_data"
    },
    {
     "data": {
      "text/html": [
       "<pre style=\"white-space:pre;overflow-x:auto;line-height:normal;font-family:Menlo,'DejaVu Sans Mono',consolas,'Courier New',monospace\">shape: <span style=\"font-weight: bold\">(</span>5_837, <span style=\"color: #008080; text-decoration-color: #008080; font-weight: bold\">7</span><span style=\"font-weight: bold\">)</span>\n",
       "┌───────────────┬───────────────┬───────────────┬───────────────┬───────────┬──────────┬───────────┐\n",
       "│ old_ID        ┆ new_ID        ┆ countsfiltere ┆ countsfiltere ┆ theta     ┆ prob     ┆ log2FC    │\n",
       "│ ---           ┆ ---           ┆ d_ControlDMSO ┆ d_DEHP_mean   ┆ ---       ┆ ---      ┆ ---       │\n",
       "│ str           ┆ str           ┆ _mea…         ┆ ---           ┆ f64       ┆ f64      ┆ f64       │\n",
       "│               ┆               ┆ ---           ┆ f64           ┆           ┆          ┆           │\n",
       "│               ┆               ┆ f64           ┆               ┆           ┆          ┆           │\n",
       "╞═══════════════╪═══════════════╪═══════════════╪═══════════════╪═══════════╪══════════╪═══════════╡\n",
       "│ TRINITY_DN103 ┆ TRINITY_DN103 ┆ <span style=\"color: #008080; text-decoration-color: #008080; font-weight: bold\">0.498321</span>      ┆ <span style=\"color: #008080; text-decoration-color: #008080; font-weight: bold\">48.792695</span>     ┆ <span style=\"color: #008080; text-decoration-color: #008080; font-weight: bold\">-1.972309</span> ┆ <span style=\"color: #008080; text-decoration-color: #008080; font-weight: bold\">1.0</span>      ┆ <span style=\"color: #008080; text-decoration-color: #008080; font-weight: bold\">-6.613447</span> │\n",
       "│ 64_c0_g1~~TRI ┆ 64_c0_g1_i1.p ┆               ┆               ┆           ┆          ┆           │\n",
       "│ NITY…         ┆ <span style=\"color: #008080; text-decoration-color: #008080; font-weight: bold\">2</span>             ┆               ┆               ┆           ┆          ┆           │\n",
       "│ TRINITY_DN114 ┆ TRINITY_DN114 ┆ <span style=\"color: #008080; text-decoration-color: #008080; font-weight: bold\">3.606968</span>      ┆ <span style=\"color: #008080; text-decoration-color: #008080; font-weight: bold\">909.146477</span>    ┆ <span style=\"color: #008080; text-decoration-color: #008080; font-weight: bold\">-2.232298</span> ┆ <span style=\"color: #008080; text-decoration-color: #008080; font-weight: bold\">1.0</span>      ┆ <span style=\"color: #008080; text-decoration-color: #008080; font-weight: bold\">-7.977582</span> │\n",
       "│ 99_c0_g1~~TRI ┆ 99_c0_g1_i3.p ┆               ┆               ┆           ┆          ┆           │\n",
       "│ NITY…         ┆ <span style=\"color: #008080; text-decoration-color: #008080; font-weight: bold\">1</span>             ┆               ┆               ┆           ┆          ┆           │\n",
       "│ TRINITY_DN120 ┆ TRINITY_DN120 ┆ <span style=\"color: #008080; text-decoration-color: #008080; font-weight: bold\">492.616367</span>    ┆ <span style=\"color: #008080; text-decoration-color: #008080; font-weight: bold\">0.510999</span>      ┆ <span style=\"color: #008080; text-decoration-color: #008080; font-weight: bold\">3.823713</span>  ┆ <span style=\"color: #008080; text-decoration-color: #008080; font-weight: bold\">1.0</span>      ┆ <span style=\"color: #008080; text-decoration-color: #008080; font-weight: bold\">9.912928</span>  │\n",
       "│ 35_c60_g1~~TR ┆ 35_c60_g1_i1. ┆               ┆               ┆           ┆          ┆           │\n",
       "│ INIT…         ┆ p1            ┆               ┆               ┆           ┆          ┆           │\n",
       "│ TRINITY_DN121 ┆ TRINITY_DN121 ┆ <span style=\"color: #008080; text-decoration-color: #008080; font-weight: bold\">103.222961</span>    ┆ <span style=\"color: #008080; text-decoration-color: #008080; font-weight: bold\">51.28329</span>      ┆ <span style=\"color: #008080; text-decoration-color: #008080; font-weight: bold\">2.352558</span>  ┆ <span style=\"color: #008080; text-decoration-color: #008080; font-weight: bold\">1.0</span>      ┆ <span style=\"color: #008080; text-decoration-color: #008080; font-weight: bold\">1.009203</span>  │\n",
       "│ 2_c0_g1~~TRIN ┆ 2_c0_g1_i4.p1 ┆               ┆               ┆           ┆          ┆           │\n",
       "│ ITY_…         ┆               ┆               ┆               ┆           ┆          ┆           │\n",
       "│ TRINITY_DN133 ┆ TRINITY_DN133 ┆ <span style=\"color: #008080; text-decoration-color: #008080; font-weight: bold\">143.21022</span>     ┆ <span style=\"color: #008080; text-decoration-color: #008080; font-weight: bold\">0.803017</span>      ┆ <span style=\"color: #008080; text-decoration-color: #008080; font-weight: bold\">2.169094</span>  ┆ <span style=\"color: #008080; text-decoration-color: #008080; font-weight: bold\">1.0</span>      ┆ <span style=\"color: #008080; text-decoration-color: #008080; font-weight: bold\">7.478488</span>  │\n",
       "│ 801_c5_g1~~TR ┆ 801_c5_g1_i1. ┆               ┆               ┆           ┆          ┆           │\n",
       "│ INIT…         ┆ p1            ┆               ┆               ┆           ┆          ┆           │\n",
       "│ …             ┆ …             ┆ …             ┆ …             ┆ …         ┆ …        ┆ …         │\n",
       "│ TRINITY_DN186 ┆ TRINITY_DN186 ┆ <span style=\"color: #008080; text-decoration-color: #008080; font-weight: bold\">1.363475</span>      ┆ <span style=\"color: #008080; text-decoration-color: #008080; font-weight: bold\">2.794916</span>      ┆ <span style=\"color: #008080; text-decoration-color: #008080; font-weight: bold\">-0.452508</span> ┆ <span style=\"color: #008080; text-decoration-color: #008080; font-weight: bold\">0.950005</span> ┆ <span style=\"color: #008080; text-decoration-color: #008080; font-weight: bold\">-1.035517</span> │\n",
       "│ 00_c0_g1~~TRI ┆ 00_c0_g1_i10. ┆               ┆               ┆           ┆          ┆           │\n",
       "│ NITY…         ┆ p2            ┆               ┆               ┆           ┆          ┆           │\n",
       "│ TRINITY_DN246 ┆ TRINITY_DN246 ┆ <span style=\"color: #008080; text-decoration-color: #008080; font-weight: bold\">0.30279</span>       ┆ <span style=\"color: #008080; text-decoration-color: #008080; font-weight: bold\">0.645784</span>      ┆ <span style=\"color: #008080; text-decoration-color: #008080; font-weight: bold\">-0.452295</span> ┆ <span style=\"color: #008080; text-decoration-color: #008080; font-weight: bold\">0.950003</span> ┆ <span style=\"color: #008080; text-decoration-color: #008080; font-weight: bold\">-1.092732</span> │\n",
       "│ 0_c0_g1~~TRIN ┆ 0_c0_g1_i1.p2 ┆               ┆               ┆           ┆          ┆           │\n",
       "│ ITY_…         ┆               ┆               ┆               ┆           ┆          ┆           │\n",
       "│ TRINITY_DN174 ┆ TRINITY_DN174 ┆ <span style=\"color: #008080; text-decoration-color: #008080; font-weight: bold\">0.702961</span>      ┆ <span style=\"color: #008080; text-decoration-color: #008080; font-weight: bold\">1.526757</span>      ┆ <span style=\"color: #008080; text-decoration-color: #008080; font-weight: bold\">-0.452204</span> ┆ <span style=\"color: #008080; text-decoration-color: #008080; font-weight: bold\">0.950002</span> ┆ <span style=\"color: #008080; text-decoration-color: #008080; font-weight: bold\">-1.118954</span> │\n",
       "│ 3_c0_g1~~TRIN ┆ 3_c0_g1_i7.p1 ┆               ┆               ┆           ┆          ┆           │\n",
       "│ ITY_…         ┆               ┆               ┆               ┆           ┆          ┆           │\n",
       "│ TRINITY_DN644 ┆ TRINITY_DN644 ┆ <span style=\"color: #008080; text-decoration-color: #008080; font-weight: bold\">126.185108</span>    ┆ <span style=\"color: #008080; text-decoration-color: #008080; font-weight: bold\">179.536743</span>    ┆ <span style=\"color: #008080; text-decoration-color: #008080; font-weight: bold\">-0.452157</span> ┆ <span style=\"color: #008080; text-decoration-color: #008080; font-weight: bold\">0.950002</span> ┆ <span style=\"color: #008080; text-decoration-color: #008080; font-weight: bold\">-0.508737</span> │\n",
       "│ 67_c1_g1~~TRI ┆ 67_c1_g1_i2.p ┆               ┆               ┆           ┆          ┆           │\n",
       "│ NITY…         ┆ <span style=\"color: #008080; text-decoration-color: #008080; font-weight: bold\">1</span>             ┆               ┆               ┆           ┆          ┆           │\n",
       "│ TRINITY_DN403 ┆ TRINITY_DN403 ┆ <span style=\"color: #008080; text-decoration-color: #008080; font-weight: bold\">55.717324</span>     ┆ <span style=\"color: #008080; text-decoration-color: #008080; font-weight: bold\">69.302335</span>     ┆ <span style=\"color: #008080; text-decoration-color: #008080; font-weight: bold\">-0.453686</span> ┆ <span style=\"color: #008080; text-decoration-color: #008080; font-weight: bold\">0.950001</span> ┆ <span style=\"color: #008080; text-decoration-color: #008080; font-weight: bold\">-0.314778</span> │\n",
       "│ 3_c0_g1~~TRIN ┆ 3_c0_g1_i16.p ┆               ┆               ┆           ┆          ┆           │\n",
       "│ ITY_…         ┆ <span style=\"color: #008080; text-decoration-color: #008080; font-weight: bold\">1</span>             ┆               ┆               ┆           ┆          ┆           │\n",
       "└───────────────┴───────────────┴───────────────┴───────────────┴───────────┴──────────┴───────────┘\n",
       "</pre>\n"
      ],
      "text/plain": [
       "shape: \u001b[1m(\u001b[0m5_837, \u001b[1;36m7\u001b[0m\u001b[1m)\u001b[0m\n",
       "┌───────────────┬───────────────┬───────────────┬───────────────┬───────────┬──────────┬───────────┐\n",
       "│ old_ID        ┆ new_ID        ┆ countsfiltere ┆ countsfiltere ┆ theta     ┆ prob     ┆ log2FC    │\n",
       "│ ---           ┆ ---           ┆ d_ControlDMSO ┆ d_DEHP_mean   ┆ ---       ┆ ---      ┆ ---       │\n",
       "│ str           ┆ str           ┆ _mea…         ┆ ---           ┆ f64       ┆ f64      ┆ f64       │\n",
       "│               ┆               ┆ ---           ┆ f64           ┆           ┆          ┆           │\n",
       "│               ┆               ┆ f64           ┆               ┆           ┆          ┆           │\n",
       "╞═══════════════╪═══════════════╪═══════════════╪═══════════════╪═══════════╪══════════╪═══════════╡\n",
       "│ TRINITY_DN103 ┆ TRINITY_DN103 ┆ \u001b[1;36m0.498321\u001b[0m      ┆ \u001b[1;36m48.792695\u001b[0m     ┆ \u001b[1;36m-1.972309\u001b[0m ┆ \u001b[1;36m1.0\u001b[0m      ┆ \u001b[1;36m-6.613447\u001b[0m │\n",
       "│ 64_c0_g1~~TRI ┆ 64_c0_g1_i1.p ┆               ┆               ┆           ┆          ┆           │\n",
       "│ NITY…         ┆ \u001b[1;36m2\u001b[0m             ┆               ┆               ┆           ┆          ┆           │\n",
       "│ TRINITY_DN114 ┆ TRINITY_DN114 ┆ \u001b[1;36m3.606968\u001b[0m      ┆ \u001b[1;36m909.146477\u001b[0m    ┆ \u001b[1;36m-2.232298\u001b[0m ┆ \u001b[1;36m1.0\u001b[0m      ┆ \u001b[1;36m-7.977582\u001b[0m │\n",
       "│ 99_c0_g1~~TRI ┆ 99_c0_g1_i3.p ┆               ┆               ┆           ┆          ┆           │\n",
       "│ NITY…         ┆ \u001b[1;36m1\u001b[0m             ┆               ┆               ┆           ┆          ┆           │\n",
       "│ TRINITY_DN120 ┆ TRINITY_DN120 ┆ \u001b[1;36m492.616367\u001b[0m    ┆ \u001b[1;36m0.510999\u001b[0m      ┆ \u001b[1;36m3.823713\u001b[0m  ┆ \u001b[1;36m1.0\u001b[0m      ┆ \u001b[1;36m9.912928\u001b[0m  │\n",
       "│ 35_c60_g1~~TR ┆ 35_c60_g1_i1. ┆               ┆               ┆           ┆          ┆           │\n",
       "│ INIT…         ┆ p1            ┆               ┆               ┆           ┆          ┆           │\n",
       "│ TRINITY_DN121 ┆ TRINITY_DN121 ┆ \u001b[1;36m103.222961\u001b[0m    ┆ \u001b[1;36m51.28329\u001b[0m      ┆ \u001b[1;36m2.352558\u001b[0m  ┆ \u001b[1;36m1.0\u001b[0m      ┆ \u001b[1;36m1.009203\u001b[0m  │\n",
       "│ 2_c0_g1~~TRIN ┆ 2_c0_g1_i4.p1 ┆               ┆               ┆           ┆          ┆           │\n",
       "│ ITY_…         ┆               ┆               ┆               ┆           ┆          ┆           │\n",
       "│ TRINITY_DN133 ┆ TRINITY_DN133 ┆ \u001b[1;36m143.21022\u001b[0m     ┆ \u001b[1;36m0.803017\u001b[0m      ┆ \u001b[1;36m2.169094\u001b[0m  ┆ \u001b[1;36m1.0\u001b[0m      ┆ \u001b[1;36m7.478488\u001b[0m  │\n",
       "│ 801_c5_g1~~TR ┆ 801_c5_g1_i1. ┆               ┆               ┆           ┆          ┆           │\n",
       "│ INIT…         ┆ p1            ┆               ┆               ┆           ┆          ┆           │\n",
       "│ …             ┆ …             ┆ …             ┆ …             ┆ …         ┆ …        ┆ …         │\n",
       "│ TRINITY_DN186 ┆ TRINITY_DN186 ┆ \u001b[1;36m1.363475\u001b[0m      ┆ \u001b[1;36m2.794916\u001b[0m      ┆ \u001b[1;36m-0.452508\u001b[0m ┆ \u001b[1;36m0.950005\u001b[0m ┆ \u001b[1;36m-1.035517\u001b[0m │\n",
       "│ 00_c0_g1~~TRI ┆ 00_c0_g1_i10. ┆               ┆               ┆           ┆          ┆           │\n",
       "│ NITY…         ┆ p2            ┆               ┆               ┆           ┆          ┆           │\n",
       "│ TRINITY_DN246 ┆ TRINITY_DN246 ┆ \u001b[1;36m0.30279\u001b[0m       ┆ \u001b[1;36m0.645784\u001b[0m      ┆ \u001b[1;36m-0.452295\u001b[0m ┆ \u001b[1;36m0.950003\u001b[0m ┆ \u001b[1;36m-1.092732\u001b[0m │\n",
       "│ 0_c0_g1~~TRIN ┆ 0_c0_g1_i1.p2 ┆               ┆               ┆           ┆          ┆           │\n",
       "│ ITY_…         ┆               ┆               ┆               ┆           ┆          ┆           │\n",
       "│ TRINITY_DN174 ┆ TRINITY_DN174 ┆ \u001b[1;36m0.702961\u001b[0m      ┆ \u001b[1;36m1.526757\u001b[0m      ┆ \u001b[1;36m-0.452204\u001b[0m ┆ \u001b[1;36m0.950002\u001b[0m ┆ \u001b[1;36m-1.118954\u001b[0m │\n",
       "│ 3_c0_g1~~TRIN ┆ 3_c0_g1_i7.p1 ┆               ┆               ┆           ┆          ┆           │\n",
       "│ ITY_…         ┆               ┆               ┆               ┆           ┆          ┆           │\n",
       "│ TRINITY_DN644 ┆ TRINITY_DN644 ┆ \u001b[1;36m126.185108\u001b[0m    ┆ \u001b[1;36m179.536743\u001b[0m    ┆ \u001b[1;36m-0.452157\u001b[0m ┆ \u001b[1;36m0.950002\u001b[0m ┆ \u001b[1;36m-0.508737\u001b[0m │\n",
       "│ 67_c1_g1~~TRI ┆ 67_c1_g1_i2.p ┆               ┆               ┆           ┆          ┆           │\n",
       "│ NITY…         ┆ \u001b[1;36m1\u001b[0m             ┆               ┆               ┆           ┆          ┆           │\n",
       "│ TRINITY_DN403 ┆ TRINITY_DN403 ┆ \u001b[1;36m55.717324\u001b[0m     ┆ \u001b[1;36m69.302335\u001b[0m     ┆ \u001b[1;36m-0.453686\u001b[0m ┆ \u001b[1;36m0.950001\u001b[0m ┆ \u001b[1;36m-0.314778\u001b[0m │\n",
       "│ 3_c0_g1~~TRIN ┆ 3_c0_g1_i16.p ┆               ┆               ┆           ┆          ┆           │\n",
       "│ ITY_…         ┆ \u001b[1;36m1\u001b[0m             ┆               ┆               ┆           ┆          ┆           │\n",
       "└───────────────┴───────────────┴───────────────┴───────────────┴───────────┴──────────┴───────────┘\n"
      ]
     },
     "metadata": {},
     "output_type": "display_data"
    }
   ],
   "source": [
    "print(df_counts.columns)\n",
    "df_counts = validate_counts_table(df_counts)\n",
    "print(df_counts)"
   ]
  },
  {
   "cell_type": "code",
   "execution_count": 161,
   "id": "b9f86afa",
   "metadata": {},
   "outputs": [
    {
     "ename": "DuplicateError",
     "evalue": "the name 'new_ID' is duplicate\n\nIt's possible that multiple expressions are returning the same default column name. If this is the case, try renaming the columns with `.alias(\"new_name\")` to avoid duplicate column names.",
     "output_type": "error",
     "traceback": [
      "\u001b[31m---------------------------------------------------------------------------\u001b[39m",
      "\u001b[31mDuplicateError\u001b[39m                            Traceback (most recent call last)",
      "\u001b[36mCell\u001b[39m\u001b[36m \u001b[39m\u001b[32mIn[161]\u001b[39m\u001b[32m, line 1\u001b[39m\n\u001b[32m----> \u001b[39m\u001b[32m1\u001b[39m df_counts = \u001b[43mdf_counts\u001b[49m\u001b[43m.\u001b[49m\u001b[43mselect\u001b[49m\u001b[43m(\u001b[49m\n\u001b[32m      2\u001b[39m \u001b[43m        \u001b[49m\u001b[43mpl\u001b[49m\u001b[43m.\u001b[49m\u001b[43mcol\u001b[49m\u001b[43m(\u001b[49m\u001b[33;43m\"\u001b[39;49m\u001b[33;43mold_ID\u001b[39;49m\u001b[33;43m\"\u001b[39;49m\u001b[43m)\u001b[49m\n\u001b[32m      3\u001b[39m \u001b[43m        \u001b[49m\u001b[43m.\u001b[49m\u001b[43mstr\u001b[49m\u001b[43m.\u001b[49m\u001b[43mslice\u001b[49m\u001b[43m(\u001b[49m\u001b[43moffset\u001b[49m\u001b[43m \u001b[49m\u001b[43m=\u001b[49m\u001b[43m \u001b[49m\u001b[43mpl\u001b[49m\u001b[43m.\u001b[49m\u001b[43mcol\u001b[49m\u001b[43m(\u001b[49m\u001b[33;43m\"\u001b[39;49m\u001b[33;43mold_ID\u001b[39;49m\u001b[33;43m\"\u001b[39;49m\u001b[43m)\u001b[49m\u001b[43m.\u001b[49m\u001b[43mstr\u001b[49m\u001b[43m.\u001b[49m\u001b[43mfind\u001b[49m\u001b[43m(\u001b[49m\u001b[33;43m\"\u001b[39;49m\u001b[33;43m~~\u001b[39;49m\u001b[33;43m\"\u001b[39;49m\u001b[43m)\u001b[49m\u001b[43m \u001b[49m\u001b[43m+\u001b[49m\u001b[43m \u001b[49m\u001b[32;43m2\u001b[39;49m\u001b[43m)\u001b[49m\n\u001b[32m      4\u001b[39m \u001b[43m        \u001b[49m\u001b[43m.\u001b[49m\u001b[43malias\u001b[49m\u001b[43m(\u001b[49m\u001b[33;43m\"\u001b[39;49m\u001b[33;43mnew_ID\u001b[39;49m\u001b[33;43m\"\u001b[39;49m\u001b[43m)\u001b[49m\u001b[43m,\u001b[49m\n\u001b[32m      5\u001b[39m \u001b[43m        \u001b[49m\u001b[43mpl\u001b[49m\u001b[43m.\u001b[49m\u001b[43mall\u001b[49m\u001b[43m(\u001b[49m\u001b[43m)\u001b[49m\n\u001b[32m      6\u001b[39m \u001b[43m        \u001b[49m\u001b[43m)\u001b[49m\n\u001b[32m      8\u001b[39m \u001b[38;5;28mprint\u001b[39m(df_counts)\n\u001b[32m     10\u001b[39m \u001b[38;5;66;03m#con esto consigo que me coja solo lo que va despues de los \"~~\" y \u001b[39;00m\n\u001b[32m     11\u001b[39m \u001b[38;5;66;03m#se crea una tabla nueva con esa y todas las columnas anteriores, se puede hacer con withcolumns pero aparece new_ID al final en vez de al principio\u001b[39;00m\n",
      "\u001b[36mFile \u001b[39m\u001b[32m~\\AppData\\Local\\Packages\\PythonSoftwareFoundation.Python.3.13_qbz5n2kfra8p0\\LocalCache\\local-packages\\Python313\\site-packages\\polars\\dataframe\\frame.py:9833\u001b[39m, in \u001b[36mDataFrame.select\u001b[39m\u001b[34m(self, *exprs, **named_exprs)\u001b[39m\n\u001b[32m   9731\u001b[39m \u001b[38;5;250m\u001b[39m\u001b[33;03m\"\"\"\u001b[39;00m\n\u001b[32m   9732\u001b[39m \u001b[33;03mSelect columns from this DataFrame.\u001b[39;00m\n\u001b[32m   9733\u001b[39m \n\u001b[32m   (...)\u001b[39m\u001b[32m   9826\u001b[39m \u001b[33;03m└──────────────┘\u001b[39;00m\n\u001b[32m   9827\u001b[39m \u001b[33;03m\"\"\"\u001b[39;00m\n\u001b[32m   9828\u001b[39m \u001b[38;5;28;01mfrom\u001b[39;00m\u001b[38;5;250m \u001b[39m\u001b[34;01mpolars\u001b[39;00m\u001b[34;01m.\u001b[39;00m\u001b[34;01mlazyframe\u001b[39;00m\u001b[34;01m.\u001b[39;00m\u001b[34;01mopt_flags\u001b[39;00m\u001b[38;5;250m \u001b[39m\u001b[38;5;28;01mimport\u001b[39;00m QueryOptFlags\n\u001b[32m   9830\u001b[39m \u001b[38;5;28;01mreturn\u001b[39;00m (\n\u001b[32m   9831\u001b[39m     \u001b[38;5;28;43mself\u001b[39;49m\u001b[43m.\u001b[49m\u001b[43mlazy\u001b[49m\u001b[43m(\u001b[49m\u001b[43m)\u001b[49m\n\u001b[32m   9832\u001b[39m \u001b[43m    \u001b[49m\u001b[43m.\u001b[49m\u001b[43mselect\u001b[49m\u001b[43m(\u001b[49m\u001b[43m*\u001b[49m\u001b[43mexprs\u001b[49m\u001b[43m,\u001b[49m\u001b[43m \u001b[49m\u001b[43m*\u001b[49m\u001b[43m*\u001b[49m\u001b[43mnamed_exprs\u001b[49m\u001b[43m)\u001b[49m\n\u001b[32m-> \u001b[39m\u001b[32m9833\u001b[39m \u001b[43m    \u001b[49m\u001b[43m.\u001b[49m\u001b[43mcollect\u001b[49m\u001b[43m(\u001b[49m\u001b[43moptimizations\u001b[49m\u001b[43m=\u001b[49m\u001b[43mQueryOptFlags\u001b[49m\u001b[43m.\u001b[49m\u001b[43m_eager\u001b[49m\u001b[43m(\u001b[49m\u001b[43m)\u001b[49m\u001b[43m)\u001b[49m\n\u001b[32m   9834\u001b[39m )\n",
      "\u001b[36mFile \u001b[39m\u001b[32m~\\AppData\\Local\\Packages\\PythonSoftwareFoundation.Python.3.13_qbz5n2kfra8p0\\LocalCache\\local-packages\\Python313\\site-packages\\polars\\_utils\\deprecation.py:97\u001b[39m, in \u001b[36mdeprecate_streaming_parameter.<locals>.decorate.<locals>.wrapper\u001b[39m\u001b[34m(*args, **kwargs)\u001b[39m\n\u001b[32m     93\u001b[39m         kwargs[\u001b[33m\"\u001b[39m\u001b[33mengine\u001b[39m\u001b[33m\"\u001b[39m] = \u001b[33m\"\u001b[39m\u001b[33min-memory\u001b[39m\u001b[33m\"\u001b[39m\n\u001b[32m     95\u001b[39m     \u001b[38;5;28;01mdel\u001b[39;00m kwargs[\u001b[33m\"\u001b[39m\u001b[33mstreaming\u001b[39m\u001b[33m\"\u001b[39m]\n\u001b[32m---> \u001b[39m\u001b[32m97\u001b[39m \u001b[38;5;28;01mreturn\u001b[39;00m \u001b[43mfunction\u001b[49m\u001b[43m(\u001b[49m\u001b[43m*\u001b[49m\u001b[43margs\u001b[49m\u001b[43m,\u001b[49m\u001b[43m \u001b[49m\u001b[43m*\u001b[49m\u001b[43m*\u001b[49m\u001b[43mkwargs\u001b[49m\u001b[43m)\u001b[49m\n",
      "\u001b[36mFile \u001b[39m\u001b[32m~\\AppData\\Local\\Packages\\PythonSoftwareFoundation.Python.3.13_qbz5n2kfra8p0\\LocalCache\\local-packages\\Python313\\site-packages\\polars\\lazyframe\\opt_flags.py:330\u001b[39m, in \u001b[36mforward_old_opt_flags.<locals>.decorate.<locals>.wrapper\u001b[39m\u001b[34m(*args, **kwargs)\u001b[39m\n\u001b[32m    327\u001b[39m         optflags = cb(optflags, kwargs.pop(key))  \u001b[38;5;66;03m# type: ignore[no-untyped-call,unused-ignore]\u001b[39;00m\n\u001b[32m    329\u001b[39m kwargs[\u001b[33m\"\u001b[39m\u001b[33moptimizations\u001b[39m\u001b[33m\"\u001b[39m] = optflags\n\u001b[32m--> \u001b[39m\u001b[32m330\u001b[39m \u001b[38;5;28;01mreturn\u001b[39;00m \u001b[43mfunction\u001b[49m\u001b[43m(\u001b[49m\u001b[43m*\u001b[49m\u001b[43margs\u001b[49m\u001b[43m,\u001b[49m\u001b[43m \u001b[49m\u001b[43m*\u001b[49m\u001b[43m*\u001b[49m\u001b[43mkwargs\u001b[49m\u001b[43m)\u001b[49m\n",
      "\u001b[36mFile \u001b[39m\u001b[32m~\\AppData\\Local\\Packages\\PythonSoftwareFoundation.Python.3.13_qbz5n2kfra8p0\\LocalCache\\local-packages\\Python313\\site-packages\\polars\\lazyframe\\frame.py:2332\u001b[39m, in \u001b[36mLazyFrame.collect\u001b[39m\u001b[34m(self, type_coercion, predicate_pushdown, projection_pushdown, simplify_expression, slice_pushdown, comm_subplan_elim, comm_subexpr_elim, cluster_with_columns, collapse_joins, no_optimization, engine, background, optimizations, **_kwargs)\u001b[39m\n\u001b[32m   2330\u001b[39m \u001b[38;5;66;03m# Only for testing purposes\u001b[39;00m\n\u001b[32m   2331\u001b[39m callback = _kwargs.get(\u001b[33m\"\u001b[39m\u001b[33mpost_opt_callback\u001b[39m\u001b[33m\"\u001b[39m, callback)\n\u001b[32m-> \u001b[39m\u001b[32m2332\u001b[39m \u001b[38;5;28;01mreturn\u001b[39;00m wrap_df(\u001b[43mldf\u001b[49m\u001b[43m.\u001b[49m\u001b[43mcollect\u001b[49m\u001b[43m(\u001b[49m\u001b[43mengine\u001b[49m\u001b[43m,\u001b[49m\u001b[43m \u001b[49m\u001b[43mcallback\u001b[49m\u001b[43m)\u001b[49m)\n",
      "\u001b[31mDuplicateError\u001b[39m: the name 'new_ID' is duplicate\n\nIt's possible that multiple expressions are returning the same default column name. If this is the case, try renaming the columns with `.alias(\"new_name\")` to avoid duplicate column names."
     ]
    }
   ],
   "source": [
    "df_counts = df_counts.select(\n",
    "        pl.col(\"old_ID\")\n",
    "        .str.slice(offset = pl.col(\"old_ID\").str.find(\"~~\") + 2)\n",
    "        .alias(\"new_ID\"),\n",
    "        pl.all()\n",
    "        )\n",
    "\n",
    "print(df_counts)\n",
    "\n",
    "#con esto consigo que me coja solo lo que va despues de los \"~~\" y \n",
    "#se crea una tabla nueva con esa y todas las columnas anteriores, se puede hacer con withcolumns pero aparece new_ID al final en vez de al principio\n"
   ]
  },
  {
   "cell_type": "code",
   "execution_count": null,
   "id": "bf3b6999",
   "metadata": {},
   "outputs": [
    {
     "ename": "IndentationError",
     "evalue": "expected an indented block after 'if' statement on line 9 (396386831.py, line 13)",
     "output_type": "error",
     "traceback": [
      "  \u001b[36mCell\u001b[39m\u001b[36m \u001b[39m\u001b[32mIn[142]\u001b[39m\u001b[32m, line 13\u001b[39m\n\u001b[31m    \u001b[39m\u001b[31melif df_annotations == 12:\u001b[39m\n    ^\n\u001b[31mIndentationError\u001b[39m\u001b[31m:\u001b[39m expected an indented block after 'if' statement on line 9\n"
     ]
    }
   ],
   "source": [
    "def merge_tables (annotation_path, count_path, output_path, output_name):\n",
    "\n",
    "    df_annotations = get_df(r\"annotation_path\")\n",
    "    df_annotations = validate_annotation_table(df_annotations)\n",
    "\n",
    "    df_counts = get_df(r\"count_path\")\n",
    "    df_counts = validate_counts_table(df_counts)\n",
    "\n",
    "    if df_annotations.width == 3:\n",
    "        \n",
    "\n",
    "    \n",
    "    elif df_annotations == 12: \n",
    "\n",
    "    \n",
    "    "
   ]
  }
 ],
 "metadata": {
  "kernelspec": {
   "display_name": "Python 3",
   "language": "python",
   "name": "python3"
  },
  "language_info": {
   "codemirror_mode": {
    "name": "ipython",
    "version": 3
   },
   "file_extension": ".py",
   "mimetype": "text/x-python",
   "name": "python",
   "nbconvert_exporter": "python",
   "pygments_lexer": "ipython3",
   "version": "3.13.6"
  }
 },
 "nbformat": 4,
 "nbformat_minor": 5
}
